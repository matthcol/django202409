{
 "cells": [
  {
   "cell_type": "markdown",
   "id": "dc1d9102-c956-4615-9678-acec831eb33a",
   "metadata": {},
   "source": [
    "# ORM Django Queries"
   ]
  },
  {
   "cell_type": "code",
   "execution_count": 1,
   "id": "f9df376b-2ed4-45b5-be7b-00fe909de887",
   "metadata": {},
   "outputs": [],
   "source": [
    "from django.db import connection, reset_queries"
   ]
  },
  {
   "cell_type": "markdown",
   "id": "a73c8ec7-a3c3-41e4-86fe-c4c91aca05fc",
   "metadata": {},
   "source": [
    "## Read All"
   ]
  },
  {
   "cell_type": "code",
   "execution_count": 2,
   "id": "7acbb5cf-1627-4d15-9efd-dd9162ea3fbf",
   "metadata": {},
   "outputs": [],
   "source": [
    "movies = Movie.objects.all() # QuerySet: Lazy object"
   ]
  },
  {
   "cell_type": "code",
   "execution_count": 4,
   "id": "dc3b2c42-f123-4488-9c67-123261158e4c",
   "metadata": {},
   "outputs": [
    {
     "data": {
      "text/plain": [
       "django.db.models.query.QuerySet"
      ]
     },
     "execution_count": 4,
     "metadata": {},
     "output_type": "execute_result"
    }
   ],
   "source": [
    "type(movies)"
   ]
  },
  {
   "cell_type": "code",
   "execution_count": 3,
   "id": "86dca62e-b43d-47d8-9427-f957bfae605c",
   "metadata": {},
   "outputs": [
    {
     "data": {
      "text/plain": [
       "[]"
      ]
     },
     "execution_count": 3,
     "metadata": {},
     "output_type": "execute_result"
    }
   ],
   "source": [
    "connection.queries"
   ]
  },
  {
   "cell_type": "code",
   "execution_count": 6,
   "id": "696eeeb6-b325-4119-aa1a-ed7ed0b12f97",
   "metadata": {},
   "outputs": [
    {
     "data": {
      "text/plain": [
       "<QuerySet [Movie<id=5257, title=Excuse Me, year=1915>, Movie<id=6366, title=Anton the Terrible, year=1916>, Movie<id=8351, title=The Mysterious Mrs. Musslewhite, year=1917>, Movie<id=8384, title=On the Level, year=1917>, Movie<id=8642, title=The Sunset Trail, year=1917>, Movie<id=8676, title=The Tides of Barnegat, year=1917>, Movie<id=8981, title=The Cruise of the Make-Believes, year=1918>, Movie<id=9124, title=Good Night, Paul, year=1918>, Movie<id=16251, title=Proud Flesh, year=1925>, Movie<id=19588, title=A Woman Against the World, year=1928>, Movie<id=9274, title=A Lady's Name, year=1918>, Movie<id=9403, title=Mrs. Leffingwell's Boots, year=1918>, Movie<id=9475, title=A Pair of Silk Stockings, year=1918>, Movie<id=9492, title=A Petticoat Pilot, year=1918>, Movie<id=9576, title=Sauce for the Goose, year=1918>, Movie<id=9666, title=Such a Little Pirate, year=1918>, Movie<id=9740, title=Unclaimed Goods, year=1918>, Movie<id=9767, title=Viviette, year=1918>, Movie<id=19699, title=The Black Watch, year=1929>, Movie<id=10099, title=Experimental Marriage, year=1919>, '...(remaining elements truncated)...']>"
      ]
     },
     "execution_count": 6,
     "metadata": {},
     "output_type": "execute_result"
    }
   ],
   "source": [
    "movies"
   ]
  },
  {
   "cell_type": "code",
   "execution_count": 7,
   "id": "15523798-5e84-43c0-86a3-837200974af4",
   "metadata": {},
   "outputs": [
    {
     "data": {
      "text/plain": [
       "[{'sql': 'SELECT \"movie\".\"id\", \"movie\".\"title\", \"movie\".\"release_year\", \"movie\".\"duration\", \"movie\".\"pg\", \"movie\".\"synopsis\", \"movie\".\"poster_uri\", \"movie\".\"color\", \"movie\".\"director_id\" FROM \"movie\" LIMIT 21',\n",
       "  'time': '0.000'}]"
      ]
     },
     "execution_count": 7,
     "metadata": {},
     "output_type": "execute_result"
    }
   ],
   "source": [
    "connection.queries"
   ]
  },
  {
   "cell_type": "code",
   "execution_count": 8,
   "id": "8fa357af-7443-4f88-a907-ede0668b4dd2",
   "metadata": {},
   "outputs": [
    {
     "data": {
      "text/plain": [
       "1187"
      ]
     },
     "execution_count": 8,
     "metadata": {},
     "output_type": "execute_result"
    }
   ],
   "source": [
    "len(movies)"
   ]
  },
  {
   "cell_type": "code",
   "execution_count": 9,
   "id": "cdd51efa-3377-4029-b74e-29cd2b7c066e",
   "metadata": {},
   "outputs": [
    {
     "data": {
      "text/plain": [
       "[{'sql': 'SELECT \"movie\".\"id\", \"movie\".\"title\", \"movie\".\"release_year\", \"movie\".\"duration\", \"movie\".\"pg\", \"movie\".\"synopsis\", \"movie\".\"poster_uri\", \"movie\".\"color\", \"movie\".\"director_id\" FROM \"movie\" LIMIT 21',\n",
       "  'time': '0.000'},\n",
       " {'sql': 'SELECT \"movie\".\"id\", \"movie\".\"title\", \"movie\".\"release_year\", \"movie\".\"duration\", \"movie\".\"pg\", \"movie\".\"synopsis\", \"movie\".\"poster_uri\", \"movie\".\"color\", \"movie\".\"director_id\" FROM \"movie\"',\n",
       "  'time': '0.016'}]"
      ]
     },
     "execution_count": 9,
     "metadata": {},
     "output_type": "execute_result"
    }
   ],
   "source": [
    "connection.queries"
   ]
  },
  {
   "cell_type": "code",
   "execution_count": 10,
   "id": "3f68f238-92b6-4193-ac66-a2c4fca45c65",
   "metadata": {},
   "outputs": [
    {
     "data": {
      "text/plain": [
       "[]"
      ]
     },
     "execution_count": 10,
     "metadata": {},
     "output_type": "execute_result"
    }
   ],
   "source": [
    "reset_queries()\n",
    "connection.queries"
   ]
  },
  {
   "cell_type": "code",
   "execution_count": 11,
   "id": "1ac09274-65e5-4f76-9abc-7d0d818dbac4",
   "metadata": {},
   "outputs": [],
   "source": [
    "persons = Person.objects.all()"
   ]
  },
  {
   "cell_type": "code",
   "execution_count": 12,
   "id": "5b57011d-e7e4-4620-8160-cefd2cb3bf31",
   "metadata": {},
   "outputs": [
    {
     "data": {
      "text/plain": [
       "[]"
      ]
     },
     "execution_count": 12,
     "metadata": {},
     "output_type": "execute_result"
    }
   ],
   "source": [
    "connection.queries"
   ]
  },
  {
   "cell_type": "code",
   "execution_count": 13,
   "id": "909dfefa-a7a1-4270-bb8b-6ffaf15e9cdf",
   "metadata": {},
   "outputs": [
    {
     "data": {
      "text/plain": [
       "<QuerySet [Person<id=1, name=Fred Astaire>, Person<id=2, name=Lauren Bacall>, Person<id=3, name=Brigitte Bardot>, Person<id=4, name=John Belushi>, Person<id=6, name=Ingrid Bergman>, Person<id=8, name=Marlon Brando>, Person<id=9, name=Richard Burton>, Person<id=11, name=Gary Cooper>, Person<id=13, name=Doris Day>, Person<id=15, name=James Dean>, Person<id=17, name=Marlene Dietrich>, Person<id=18, name=Kirk Douglas>, Person<id=20, name=Henry Fonda>, Person<id=21, name=Joan Fontaine>, Person<id=24, name=John Gielgud>, Person<id=25, name=Jerry Goldsmith>, Person<id=26, name=Cary Grant>, Person<id=27, name=Alec Guinness>, Person<id=28, name=Rita Hayworth>, Person<id=30, name=Audrey Hepburn>, '...(remaining elements truncated)...']>"
      ]
     },
     "execution_count": 13,
     "metadata": {},
     "output_type": "execute_result"
    }
   ],
   "source": [
    "persons[:100]"
   ]
  },
  {
   "cell_type": "code",
   "execution_count": 14,
   "id": "c076beb3-cb10-4b8b-b6cd-2431225f7b7f",
   "metadata": {},
   "outputs": [
    {
     "data": {
      "text/plain": [
       "[{'sql': 'SELECT \"person\".\"id\", \"person\".\"name\", \"person\".\"birthdate\" FROM \"person\" LIMIT 21',\n",
       "  'time': '0.016'}]"
      ]
     },
     "execution_count": 14,
     "metadata": {},
     "output_type": "execute_result"
    }
   ],
   "source": [
    "connection.queries"
   ]
  },
  {
   "cell_type": "code",
   "execution_count": 15,
   "id": "ce36f407-a676-49e3-8c09-e8fbc8e70bbc",
   "metadata": {},
   "outputs": [
    {
     "data": {
      "text/plain": [
       "<QuerySet [Person<id=151, name=Morgan Freeman>, Person<id=152, name=Richard Gere>, Person<id=153, name=Gina Gershon>, Person<id=154, name=Mel Gibson>, Person<id=155, name=Whoopi Goldberg>, Person<id=156, name=Jeff Goldblum>, Person<id=157, name=Linda Hamilton>, Person<id=158, name=Tom Hanks>, Person<id=159, name=Teri Hatcher>, Person<id=160, name=Ethan Hawke>, Person<id=161, name=Salma Hayek>, Person<id=162, name=Anne Heche>, Person<id=163, name=Dustin Hoffman>, Person<id=164, name=Anthony Hopkins>, Person<id=165, name=Ron Howard>, Person<id=166, name=Helen Hunt>, Person<id=168, name=Samuel L. Jackson>, Person<id=169, name=Tommy Lee Jones>, Person<id=171, name=Ashley Judd>, Person<id=172, name=Harvey Keitel>, '...(remaining elements truncated)...']>"
      ]
     },
     "execution_count": 15,
     "metadata": {},
     "output_type": "execute_result"
    }
   ],
   "source": [
    "persons[100:200]"
   ]
  },
  {
   "cell_type": "code",
   "execution_count": 16,
   "id": "11105ec9-c485-4b50-9ade-2ca2134865e6",
   "metadata": {},
   "outputs": [
    {
     "data": {
      "text/plain": [
       "[{'sql': 'SELECT \"person\".\"id\", \"person\".\"name\", \"person\".\"birthdate\" FROM \"person\" LIMIT 21',\n",
       "  'time': '0.016'},\n",
       " {'sql': 'SELECT \"person\".\"id\", \"person\".\"name\", \"person\".\"birthdate\" FROM \"person\" LIMIT 21 OFFSET 100',\n",
       "  'time': '0.000'}]"
      ]
     },
     "execution_count": 16,
     "metadata": {},
     "output_type": "execute_result"
    }
   ],
   "source": [
    "connection.queries"
   ]
  },
  {
   "cell_type": "markdown",
   "id": "af66decd-0f7d-4404-9feb-36e8ac83ec2d",
   "metadata": {},
   "source": [
    "## Read with filter"
   ]
  },
  {
   "cell_type": "code",
   "execution_count": 19,
   "id": "26b89cb1-de22-4b3d-8213-35ce258c62ba",
   "metadata": {},
   "outputs": [
    {
     "data": {
      "text/plain": [
       "<QuerySet [Movie<id=84750, title=Sword of the Valiant: The Legend of Sir Gawain and the Green Knight, year=1984>, Movie<id=86927, title=Bachelor Party, year=1984>, Movie<id=86979, title=Blood Simple, year=1984>, Movie<id=86984, title=Body Double, year=1984>, Movie<id=86998, title=Breakin', year=1984>, Movie<id=87062, title=City Heat, year=1984>, Movie<id=87078, title=Conan the Destroyer, year=1984>, Movie<id=87363, title=Gremlins, year=1984>, Movie<id=87469, title=Indiana Jones and the Temple of Doom, year=1984>, Movie<id=87727, title=Missing in Action, year=1984>, Movie<id=87739, title=Monaco Forever, year=1984>, Movie<id=88001, title=Rhinestone, year=1984>, Movie<id=88161, title=Splash, year=1984>, Movie<id=88247, title=The Terminator, year=1984>, Movie<id=88272, title=Tightrope, year=1984>, Movie<id=92264, title=Heroes Shed No Tears, year=1984>]>"
      ]
     },
     "execution_count": 19,
     "metadata": {},
     "output_type": "execute_result"
    }
   ],
   "source": [
    "# movies from 1984\n",
    "reset_queries()\n",
    "Movie.objects.filter(year=1984)"
   ]
  },
  {
   "cell_type": "code",
   "execution_count": 20,
   "id": "6bfab780-cb06-426b-96a0-6216b99c1df8",
   "metadata": {},
   "outputs": [
    {
     "data": {
      "text/plain": [
       "[{'sql': 'SELECT \"movie\".\"id\", \"movie\".\"title\", \"movie\".\"release_year\", \"movie\".\"duration\", \"movie\".\"pg\", \"movie\".\"synopsis\", \"movie\".\"poster_uri\", \"movie\".\"color\", \"movie\".\"director_id\" FROM \"movie\" WHERE \"movie\".\"release_year\" = 1984 LIMIT 21',\n",
       "  'time': '0.000'}]"
      ]
     },
     "execution_count": 20,
     "metadata": {},
     "output_type": "execute_result"
    }
   ],
   "source": [
    "connection.queries"
   ]
  },
  {
   "cell_type": "code",
   "execution_count": 21,
   "id": "ce944000-e8b1-4d81-ab3f-5b65b500eaff",
   "metadata": {},
   "outputs": [
    {
     "data": {
      "text/plain": [
       "<QuerySet [Movie<id=87363, title=Gremlins, year=1984>]>"
      ]
     },
     "execution_count": 21,
     "metadata": {},
     "output_type": "execute_result"
    }
   ],
   "source": [
    "# movies from 1984 and duration 106 minutes\n",
    "reset_queries()\n",
    "Movie.objects.filter(year=1984, duration=106)"
   ]
  },
  {
   "cell_type": "code",
   "execution_count": 22,
   "id": "de9bb15b-155b-4cb5-901d-4cd5bcd1d305",
   "metadata": {},
   "outputs": [
    {
     "data": {
      "text/plain": [
       "[{'sql': 'SELECT \"movie\".\"id\", \"movie\".\"title\", \"movie\".\"release_year\", \"movie\".\"duration\", \"movie\".\"pg\", \"movie\".\"synopsis\", \"movie\".\"poster_uri\", \"movie\".\"color\", \"movie\".\"director_id\" FROM \"movie\" WHERE (\"movie\".\"duration\" = 106 AND \"movie\".\"release_year\" = 1984) LIMIT 21',\n",
       "  'time': '0.000'}]"
      ]
     },
     "execution_count": 22,
     "metadata": {},
     "output_type": "execute_result"
    }
   ],
   "source": [
    "connection.queries"
   ]
  },
  {
   "cell_type": "markdown",
   "id": "864b8e5b-a65b-45b1-b067-57a7f65b12bf",
   "metadata": {},
   "source": [
    "## Exercice using lookups:\n",
    "Extract movies with:\n",
    "- title = 'the man who knew too much' (case insensitive)\n",
    "- title starting with 'the man who' (case insensitive)\n",
    "- title containing 'man' (case insensitive)\n",
    "- year > 2019\n",
    "- year between  1980 and 1989\n",
    "- duration is null\n",
    "- duration > 300 or duration is null\n",
    "\n",
    "Extract persons with:\n",
    "- birth year 1930\n",
    "- birth year before 1900\n",
    "\n",
    "Doc: https://docs.djangoproject.com/en/4.2/ref/models/querysets/"
   ]
  }
 ],
 "metadata": {
  "kernelspec": {
   "display_name": "Django Shell-Plus",
   "language": "python",
   "name": "django_extensions"
  },
  "language_info": {
   "codemirror_mode": {
    "name": "ipython",
    "version": 3
   },
   "file_extension": ".py",
   "mimetype": "text/x-python",
   "name": "python",
   "nbconvert_exporter": "python",
   "pygments_lexer": "ipython3",
   "version": "3.12.5"
  }
 },
 "nbformat": 4,
 "nbformat_minor": 5
}
