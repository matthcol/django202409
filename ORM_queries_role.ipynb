{
 "cells": [
  {
   "cell_type": "markdown",
   "id": "98036dc5-5eee-4855-9339-e4c4b103ceb9",
   "metadata": {},
   "source": [
    "# ORM Queries with explicit association table/class"
   ]
  },
  {
   "cell_type": "code",
   "execution_count": 2,
   "id": "23661b56-6fe3-44a5-9e71-1b3567f5a1a3",
   "metadata": {},
   "outputs": [],
   "source": [
    "from django.db import reset_queries, connection"
   ]
  },
  {
   "cell_type": "code",
   "execution_count": 3,
   "id": "2030e2df-0260-4ea5-93b2-236544394933",
   "metadata": {},
   "outputs": [
    {
     "data": {
      "text/plain": [
       "Movie<id=120338, title=Titanic, year=1997>"
      ]
     },
     "execution_count": 3,
     "metadata": {},
     "output_type": "execute_result"
    }
   ],
   "source": [
    "reset_queries()\n",
    "m = Movie.objects.get(title='Titanic')\n",
    "m"
   ]
  },
  {
   "cell_type": "code",
   "execution_count": 4,
   "id": "499b724e-2e22-4513-aa9a-30baf8cbfeeb",
   "metadata": {},
   "outputs": [
    {
     "data": {
      "text/plain": [
       "<QuerySet [Person<id=116, name=James Cameron>, Person<id=138, name=Leonardo DiCaprio>, Person<id=200, name=Bill Paxton>, Person<id=701, name=Kate Winslet>, Person<id=708, name=Billy Zane>, Person<id=751, name=Suzy Amis>, Person<id=870, name=Kathy Bates>, Person<id=967, name=Eric Braeden>, Person<id=1255, name=Victor Garber>, Person<id=1280, name=Jenette Goldstein>, Person<id=1572, name=Danny Nucci>, Person<id=1784, name=Gloria Stuart>, Person<id=1831, name=David Warner>, Person<id=4920, name=Frances Fisher>, Person<id=6508, name=Tony Kenny>, Person<id=6976, name=Marc Cass>, Person<id=8656, name=Lewis Abernathy>, Person<id=12079, name=Seth Adkins>, Person<id=27424, name=Scott Anderson>, Person<id=27735, name=Kris Andersson>, '...(remaining elements truncated)...']>"
      ]
     },
     "execution_count": 4,
     "metadata": {},
     "output_type": "execute_result"
    }
   ],
   "source": [
    "m.actors.all()"
   ]
  },
  {
   "cell_type": "code",
   "execution_count": 6,
   "id": "072bff1d-fb98-4c15-8850-70cce7755497",
   "metadata": {},
   "outputs": [
    {
     "name": "stdout",
     "output_type": "stream",
     "text": [
      "Person<id=116, name=James Cameron>: Steerage Dancer\n",
      "Person<id=138, name=Leonardo DiCaprio>: Jack Dawson\n",
      "Person<id=200, name=Bill Paxton>: Brock Lovett\n",
      "Person<id=701, name=Kate Winslet>: Rose Dewitt Bukater\n",
      "Person<id=708, name=Billy Zane>: Cal Hockley\n",
      "Person<id=751, name=Suzy Amis>: Lizzy Calvert\n",
      "Person<id=870, name=Kathy Bates>: Molly Brown\n",
      "Person<id=967, name=Eric Braeden>: John Jacob Astor\n",
      "Person<id=1255, name=Victor Garber>: Thomas Andrews\n",
      "Person<id=1280, name=Jenette Goldstein>: Irish Mommy\n",
      "Person<id=1572, name=Danny Nucci>: Fabrizio\n",
      "Person<id=1784, name=Gloria Stuart>: Old Rose\n",
      "Person<id=1831, name=David Warner>: Spicer Lovejoy\n",
      "Person<id=4920, name=Frances Fisher>: Ruth Dewitt Bukater\n",
      "Person<id=6508, name=Tony Kenny>: Deckhand\n",
      "Person<id=6976, name=Marc Cass>: Hold Steward #1\n",
      "Person<id=8656, name=Lewis Abernathy>: Lewis Bodine\n",
      "Person<id=12079, name=Seth Adkins>: Slovakian 3 Year Old Boy\n",
      "Person<id=27424, name=Scott Anderson>: Frederick Fleet\n",
      "Person<id=27735, name=Kris Andersson>: Dancer\n",
      "Person<id=39263, name=Richard Ashton>: Carpenter John Hutchinson\n",
      "Person<id=44011, name=Rosalind Ayres>: Lady Duff Gordon\n",
      "Person<id=47775, name=Brian Baines>: Noble Sailor\n",
      "Person<id=54813, name=Adam Barker>: Wireless Operator Cyril Evans\n",
      "Person<id=58029, name=Jason Barry>: Tommy Ryan\n",
      "Person<id=60858, name=Bobbie Bates>: Dancer\n",
      "Person<id=101692, name=Alexandra Boyd>: 1st Class Woman\n",
      "Person<id=107938, name=Fannie Brett>: Madame Aubert\n",
      "Person<id=109229, name=Paul Brightwell>: Quartermaster Hichens\n",
      "Person<id=125320, name=Mike Butters>: Musician\n",
      "Person<id=126137, name=Chris Byrne>: Stairwell Steward\n",
      "Person<id=135633, name=Mark Capri>: Steward #4\n",
      "Person<id=143167, name=Nicholas Cascone>: Bobby Buell\n",
      "Person<id=143568, name=Aaron James Cash>: Dancer\n",
      "Person<id=152464, name=Mark Lindsay Chapman>: Chief Officer Wilde\n",
      "Person<id=154195, name=Charlotte Chatton>: Madeleine Astor\n",
      "Person<id=175267, name=Brendan Connolly>: Scotland Road Steward\n",
      "Person<id=177427, name=Gregory Cooke>: Jack Phillips\n",
      "Person<id=185741, name=Chris Cragnotti>: Victor Giglio\n",
      "Person<id=186426, name=Simon Crane>: 4th Officer Boxhall\n",
      "Person<id=188836, name=David Cronnelly>: Crewman\n",
      "Person<id=209326, name=Kevin de la Noy>: 3rd Officer Pitman\n",
      "Person<id=219336, name=Barry Dennen>: Praying Man\n",
      "Person<id=231871, name=Ron Donachie>: Master at Arms\n",
      "Person<id=240474, name=Shay Duffin>: Pubkeeper\n",
      "Person<id=242649, name=Kathleen S. Dunn>: Woman in Water\n",
      "Person<id=247542, name=Martin East>: Lookout Lee\n",
      "Person<id=254862, name=Greg Ellis>: Carpathia Steward\n",
      "Person<id=258117, name=Michael Ensign>: Benjamin Guggenheim\n",
      "Person<id=263323, name=Jonathan Evans-Jones>: Wallace Hartley\n",
      "Person<id=266119, name=Anders Falk>: Olaus Gunderson\n",
      "Person<id=281945, name=Anne Fletcher>: Dancer\n",
      "Person<id=281992, name=Edward Fletcher>: 6th Officer Moody\n",
      "Person<id=286157, name=Terry Forrestal>: Chief Engineer Bell\n",
      "Person<id=287038, name=Edmond Alan Forsyth>: Dancer\n",
      "Person<id=288882, name=Bernard Fox>: Col. Archibald Gracie\n",
      "Person<id=289211, name=Richard Fox>: Steward #1\n",
      "Person<id=290302, name=Romeo Francis>: Syrian Man\n",
      "Person<id=299809, name=Thomas Füri>: I Salonisti Violin\n",
      "Person<id=301401, name=Amy Gaipa>: Trudy Bolt\n",
      "Person<id=308127, name=James Garrett>: Titanic Porter\n",
      "Person<id=317594, name=Werner Giger>: I Salonisti Piano\n",
      "Person<id=334262, name=Richard Graham>: Quartermaster Rowe\n",
      "Person<id=344435, name=Ioan Gruffudd>: Fifth Officer Lowe\n",
      "Person<id=368229, name=Lorenz Hasler>: I Salonisti Violin\n",
      "Person<id=378609, name=Paul Herbert>: Hold Steward #2\n",
      "Person<id=382794, name=Andie Hicks>: Dancer\n",
      "Person<id=384060, name=Bernard Hill>: Captain Smith\n",
      "Person<id=386816, name=Scott Hislop>: Dancer\n",
      "Person<id=390683, name=Erik Holland>: Olaf Dahl\n",
      "Person<id=397975, name=Griffin Howell>: 1st Class Passenger\n",
      "Person<id=398265, name=Sean Howse>: The Promenade Steward\n",
      "Person<id=399103, name=Martin Hub>: Slovakian Father\n",
      "Person<id=402624, name=Samantha Hunt>: Steerage Band Member\n",
      "Person<id=404993, name=Jonathan Hyde>: Bruce Ismay\n",
      "Person<id=416474, name=Emmett James>: 1st Class Steward\n",
      "Person<id=419089, name=Martin Jarvis>: Sir Duff Gordon\n",
      "Person<id=446287, name=Craig Kelly>: Harold Bride\n",
      "Person<id=449599, name=Linda Kerns>: 3rd Class Woman\n",
      "Person<id=455801, name=Jari Kinnunen>: Bjorn Gunderson\n",
      "Person<id=459779, name=Rebecca Klingler>: Mother at Stern\n",
      "Person<id=481918, name=Martin Laing>: Promenade Deck Steward\n",
      "Person<id=484140, name=James Lancaster>: Father Byles\n",
      "Person<id=484837, name=Laramie Landis>: Irish Little Girl\n",
      "Person<id=492566, name=Sean Lawlor>: Leading Stoker Charles Hendrickson\n",
      "Person<id=493034, name=Steven Lawrence>: First Class Steward\n",
      "Person<id=494749, name=Derek Lea>: Leading Stoker Barrett\n",
      "Person<id=512746, name=Van Ling>: Chinese Man\n",
      "Person<id=519569, name=Shep Lonsdale>: Steerage Band Member\n",
      "Person<id=528278, name=Don Lynch>: Frederick Spedden\n",
      "Person<id=547808, name=Mandana Marino>: Syrian Woman\n",
      "Person<id=552565, name=Johnny Martin>: Rescue Boat Crewman\n",
      "Person<id=563306, name=Stan Mazin>: Dancer\n",
      "Person<id=567498, name=Brian McDermott>: Titanic Gym Instructor Thomas McCawley\n",
      "Person<id=575164, name=Nick Meaney>: Steward #2\n",
      "Person<id=604611, name=Diana Morgan>: News Reporter\n",
      "Person<id=614597, name=Patrick Murphy>: Steerage Band Member\n",
      "Person<id=626119, name=Sean Nepita>: Elevator Operator\n",
      "Person<id=639333, name=Ellen O'Brien>: Frozen Woman with Baby\n",
      "Person<id=641924, name=Mike O'Neal>: Engine Room Crewman\n",
      "Person<id=642078, name=Tricia O'Neil>: Woman\n",
      "Person<id=647600, name=Bjørn Olsen>: Olaf\n",
      "Person<id=653829, name=Camilla Overbye Roos>: Helga Dahl\n",
      "Person<id=654302, name=Alex Owens-Sarno>: Cora Cartmell\n",
      "Person<id=654503, name=Kevin Owers>: Steward #3\n",
      "Person<id=656297, name=Oliver Page>: Steward Barnes\n",
      "Person<id=658817, name=Lew Palter>: Isidor Straus\n",
      "Person<id=661087, name=Barbarella Pardo>: Core extra\n",
      "Person<id=678562, name=Dan Pettersson>: Sven\n",
      "Person<id=680526, name=Jonny Phillips>: 2nd Officer Lightoller\n",
      "Person<id=696369, name=Judy Prestininzi>: Praying Woman\n",
      "Person<id=702797, name=Steven Quale>: Engine Room Worker\n",
      "Person<id=711938, name=Lisa Ratzin>: Dancer\n",
      "Person<id=712341, name=Elsa Raven>: Ida Straus\n",
      "Person<id=719444, name=Julene Renee>: Dancer\n",
      "Person<id=727004, name=Chuck Riley>: Narrator of Theatrical Trailer\n",
      "Person<id=741645, name=Rochelle Rose>: Countess of Rothes\n",
      "Person<id=742911, name=Olivia Rosewood>: Mary Marvin\n",
      "Person<id=755972, name=Anatoly M. Sagalevitch>: Anatoly Milkailavich\n",
      "Person<id=805181, name=John Currie Slade>: Ohio Man\n",
      "Person<id=810016, name=Stephen Wolfe Smith>: 1st Class Dining Room Steward\n",
      "Person<id=829380, name=Ewan Stewart>: 1st Officer Murdoch\n",
      "Person<id=843875, name=Béla Szedlák>: I Salonisti Double Bass\n",
      "Person<id=843876, name=Ferenc Szedlák>: I Salonisti Cello\n",
      "Person<id=853092, name=Rocky Taylor>: Bert Cartmell\n",
      "Person<id=859809, name=Reece P. Thompson III>: Irish Little Boy\n",
      "Person<id=873856, name=R. Gern Trowbridge>: Drowning Man\n",
      "Person<id=874171, name=Mark Rafael Truitt>: Yaley\n",
      "Person<id=876720, name=Liam Tuohy>: Chief Baker Joughin\n",
      "Person<id=878577, name=Stephen Twigger>: Steerage Band Member\n",
      "Person<id=881951, name=Vern Urich>: Man in Water\n",
      "Person<id=904619, name=Francisco Váldez>: Man Being Combed for Lice\n",
      "Person<id=905289, name=Alison Waddell>: Cal''s Crying Girl\n",
      "Person<id=905290, name=Amber Waddell>: Cal''s Crying Girl\n",
      "Person<id=906975, name=John Walcutt>: 1st Class Husband\n",
      "Person<id=909574, name=Brian Walsh>: Irish Man\n",
      "Person<id=917590, name=Stephen Wehmeyer>: Steerage Band Member\n",
      "Person<id=934350, name=Garth Wilton>: 1st Class Waiter\n",
      "Person<id=1077195, name=John Leonhardt>: Second Class Passenger\n",
      "Person<id=1146645, name=Bruno Campolo>: 1st Class Man\n",
      "Person<id=1305346, name=Rudy Joffroy>: ''Safe'' Bellboy\n",
      "Person<id=1386039, name=Miguel A. Lomelin>: Rich Man\n",
      "Person<id=1429736, name=Peter John White>: Third Officer Groves\n",
      "Person<id=2002786, name=Gregory Charles Kosty>: Seaman\n",
      "Person<id=2003570, name=Geoffrey C. Kosty>: Seaman\n",
      "Person<id=2199148, name=Pia Thrasher>: First Class Passenger\n",
      "Person<id=2408613, name=Phil Parlapiano>: Button Accordionist\n",
      "Person<id=2713791, name=Michael J. Tomaso>: E-Deck Passenger\n",
      "Person<id=2904879, name=Miguel Angel Varela Fimbres>: 3rd Class Youngster Without Lifesaver Jacket\n",
      "Person<id=2992217, name=Kevyn Currie>: Titanic Crewmember\n",
      "Person<id=3080123, name=Thomas Fiss>: Douglas Spedden\n",
      "Person<id=3259730, name=George Kosty Jr.>: 2nd Class Passenger\n",
      "Person<id=3261830, name=George Kosty III>: Waiter\n",
      "Person<id=3501118, name=Meghan McLeod>: First Class Passenger\n",
      "Person<id=3530577, name=Tasha Sulkowska>: Extra\n",
      "Person<id=3642828, name=Julian Oros>: Engineering Officer\n",
      "Person<id=3927723, name=Ellie Bensinger>: Tea Room Girl\n",
      "Person<id=4746371, name=Ted Leib>: Kissing Couple\n",
      "Person<id=6521909, name=Lucie Zolcerova>: Kissing Couple\n",
      "Person<id=6791600, name=Jeremy Bluejean Jones>: Bathroom Guy\n",
      "Person<id=8364461, name=Ryan McClurkin>: 2nd Class Passenger\n",
      "Person<id=8586360, name=Bret Aaron Knower>: 1st Class Passenger\n",
      "Person<id=9200859, name=Salonisti>: Titanic Orchestra\n",
      "Person<id=9200860, name=Gaelic Storm>: Steerage Band\n",
      "Person<id=10386091, name=Daniel Vasic>: Sailor\n"
     ]
    }
   ],
   "source": [
    "for p in m.play_set.all():\n",
    "    print(p.actor, p.role, sep=': ')"
   ]
  },
  {
   "cell_type": "code",
   "execution_count": 7,
   "id": "f0f8072b-1267-423c-9022-6152242262f4",
   "metadata": {},
   "outputs": [
    {
     "data": {
      "text/plain": [
       "Person<id=142, name=Clint Eastwood>"
      ]
     },
     "execution_count": 7,
     "metadata": {},
     "output_type": "execute_result"
    }
   ],
   "source": [
    "clint = Person.objects.get(name='Clint Eastwood')\n",
    "clint"
   ]
  },
  {
   "cell_type": "code",
   "execution_count": 12,
   "id": "a804d2a9-82af-4aa5-a5b5-3cc3fd5c33d5",
   "metadata": {},
   "outputs": [
    {
     "data": {
      "text/plain": [
       "<QuerySet [Movie<id=48092, title=Francis in the Navy, year=1955>, Movie<id=48279, title=Lady Godiva of Coventry, year=1955>, Movie<id=48554, title=Revenge of the Creature, year=1955>, Movie<id=48696, title=Tarantula, year=1955>, Movie<id=48971, title=Away All Boats, year=1956>, Movie<id=49212, title=The First Traveling Saleslady, year=1956>, Movie<id=49547, title=Never Say Goodbye, year=1956>, Movie<id=49793, title=Star in the Dust, year=1956>, Movie<id=50363, title=Escapade in Japan, year=1957>, Movie<id=51349, title=Ambush at Cimarron Pass, year=1958>, Movie<id=51840, title=Lafayette Escadrille, year=1958>, Movie<id=58461, title=A Fistful of Dollars, year=1964>, Movie<id=59578, title=For a Few Dollars More, year=1965>, Movie<id=60196, title=The Good, the Bad and the Ugly, year=1966>, Movie<id=61037, title=The Witches, year=1967>, Movie<id=61747, title=Hang 'Em High, year=1968>, Movie<id=62824, title=Coogan's Bluff, year=1968>, Movie<id=64782, title=Paint Your Wagon, year=1969>, Movie<id=65134, title=Two Mules for Sister Sara, year=1970>, Movie<id=65207, title=Where Eagles Dare, year=1968>, '...(remaining elements truncated)...']>"
      ]
     },
     "execution_count": 12,
     "metadata": {},
     "output_type": "execute_result"
    }
   ],
   "source": [
    "clint.played_movies.all()"
   ]
  },
  {
   "cell_type": "code",
   "execution_count": 13,
   "id": "5981b5d6-453e-40ab-b200-7453e84181b9",
   "metadata": {},
   "outputs": [
    {
     "name": "stdout",
     "output_type": "stream",
     "text": [
      "Movie<id=7959026, title=The Mule, year=2018>: Earl Stone\n",
      "Movie<id=2179136, title=American Sniper, year=2014>: Church Goer\n",
      "Movie<id=2083383, title=Trouble with the Curve, year=2012>: Gus\n",
      "Movie<id=1205489, title=Gran Torino, year=2008>: Walt Kowalski\n",
      "Movie<id=405159, title=Million Dollar Baby, year=2004>: Frankie Dunn\n",
      "Movie<id=309377, title=Blood Work, year=2002>: Terry McCaleb\n",
      "Movie<id=186566, title=Space Cowboys, year=2000>: Frank Corvin\n",
      "Movie<id=139668, title=True Crime, year=1999>: Steve Everett\n",
      "Movie<id=118548, title=Absolute Power, year=1997>: Luther Whitney\n",
      "Movie<id=112642, title=Casper, year=1995>: Clint Eastwood\n",
      "Movie<id=112579, title=The Bridges of Madison County, year=1995>: Robert Kincaid\n",
      "Movie<id=107206, title=In the Line of Fire, year=1993>: Frank Horrigan\n",
      "Movie<id=107808, title=A Perfect World, year=1993>: Chief Red Garnett\n",
      "Movie<id=105695, title=Unforgiven, year=1992>: Bill Munny\n",
      "Movie<id=100928, title=White Hunter Black Heart, year=1990>: John Wilson\n",
      "Movie<id=100514, title=The Rookie, year=1990>: Nick Pulovski\n",
      "Movie<id=98097, title=Pink Cadillac, year=1989>: Tommy Nowak\n",
      "Movie<id=94963, title=The Dead Pool, year=1988>: Harry Callahan\n",
      "Movie<id=91187, title=Heartbreak Ridge, year=1986>: Gunnery Sergent Thomas Highway\n",
      "Movie<id=89767, title=Pale Rider, year=1985>: Preacher\n",
      "Movie<id=88272, title=Tightrope, year=1984>: Wes Block\n",
      "Movie<id=87062, title=City Heat, year=1984>: Lieutenant Speer\n",
      "Movie<id=86383, title=Sudden Impact, year=1983>: Harry Callahan\n",
      "Movie<id=84088, title=Honkytonk Man, year=1982>: Red Stovall\n",
      "Movie<id=83943, title=Firefox, year=1982>: Mitchell Gant\n",
      "Movie<id=80377, title=Any Which Way You Can, year=1980>: Philo Beddoe\n",
      "Movie<id=80472, title=Bronco Billy, year=1980>: Bronco Billy\n",
      "Movie<id=79116, title=Escape from Alcatraz, year=1979>: Frank Morris\n",
      "Movie<id=77523, title=Every Which Way but Loose, year=1978>: Philo Beddoe\n",
      "Movie<id=76070, title=The Gauntlet, year=1977>: Ben Shockley\n",
      "Movie<id=75029, title=The Outlaw Josey Wales, year=1976>: Josey Wales\n",
      "Movie<id=74483, title=The Enforcer, year=1976>: Harry Callahan\n",
      "Movie<id=72926, title=The Eiger Sanction, year=1975>: Jonathan Hemlock\n",
      "Movie<id=72288, title=Thunderbolt and Lightfoot, year=1974>: Thunderbolt\n",
      "Movie<id=69822, title=Breezy, year=1973>: Man at Marina\n",
      "Movie<id=68699, title=High Plains Drifter, year=1973>: The Stranger\n",
      "Movie<id=70355, title=Magnum Force, year=1973>: Harry Calahan\n",
      "Movie<id=68768, title=Joe Kidd, year=1972>: Joe Kidd\n",
      "Movie<id=67588, title=Play Misty for Me, year=1971>: Dave\n",
      "Movie<id=66999, title=Dirty Harry, year=1971>: Harry\n",
      "Movie<id=66819, title=The Beguiled, year=1971>: John McBurney\n",
      "Movie<id=65938, title=Kelly's Heroes, year=1970>: Kelly\n",
      "Movie<id=65134, title=Two Mules for Sister Sara, year=1970>: Hogan\n",
      "Movie<id=64782, title=Paint Your Wagon, year=1969>: Pardner\n",
      "Movie<id=62824, title=Coogan's Bluff, year=1968>: Coogan\n",
      "Movie<id=65207, title=Where Eagles Dare, year=1968>: Schaffer\n",
      "Movie<id=61747, title=Hang 'Em High, year=1968>: Marshal Jed Cooper\n",
      "Movie<id=61037, title=The Witches, year=1967>: Carlo\n",
      "Movie<id=60196, title=The Good, the Bad and the Ugly, year=1966>: Blondie\n",
      "Movie<id=59578, title=For a Few Dollars More, year=1965>: Monco\n",
      "Movie<id=58461, title=A Fistful of Dollars, year=1964>: Joe\n",
      "Movie<id=51349, title=Ambush at Cimarron Pass, year=1958>: Keith Williams\n",
      "Movie<id=51840, title=Lafayette Escadrille, year=1958>: George Moseley\n",
      "Movie<id=50363, title=Escapade in Japan, year=1957>: Dumbo - Pilot\n",
      "Movie<id=49212, title=The First Traveling Saleslady, year=1956>: Lt. Jack Rice\n",
      "Movie<id=49793, title=Star in the Dust, year=1956>: Tom - Ranch Hand\n",
      "Movie<id=49547, title=Never Say Goodbye, year=1956>: Will\n",
      "Movie<id=48971, title=Away All Boats, year=1956>: Corpsman\n",
      "Movie<id=48279, title=Lady Godiva of Coventry, year=1955>: Alfred the Fletcher\n",
      "Movie<id=48696, title=Tarantula, year=1955>: Jet Squadron Leader\n",
      "Movie<id=48554, title=Revenge of the Creature, year=1955>: Jennings\n",
      "Movie<id=48092, title=Francis in the Navy, year=1955>: Jonesy\n"
     ]
    }
   ],
   "source": [
    "for p in clint.play_set.order_by('-movie__year'):\n",
    "    print(p.movie, p.role, sep=': ')"
   ]
  }
 ],
 "metadata": {
  "kernelspec": {
   "display_name": "Django Shell-Plus",
   "language": "python",
   "name": "django_extensions"
  },
  "language_info": {
   "codemirror_mode": {
    "name": "ipython",
    "version": 3
   },
   "file_extension": ".py",
   "mimetype": "text/x-python",
   "name": "python",
   "nbconvert_exporter": "python",
   "pygments_lexer": "ipython3",
   "version": "3.12.5"
  }
 },
 "nbformat": 4,
 "nbformat_minor": 5
}
