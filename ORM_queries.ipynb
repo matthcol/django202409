{
 "cells": [
  {
   "cell_type": "markdown",
   "id": "dc1d9102-c956-4615-9678-acec831eb33a",
   "metadata": {},
   "source": [
    "# ORM Django Queries"
   ]
  },
  {
   "cell_type": "code",
   "execution_count": 54,
   "id": "f9df376b-2ed4-45b5-be7b-00fe909de887",
   "metadata": {},
   "outputs": [],
   "source": [
    "from django.db import connection, reset_queries\n",
    "from django.db.models.functions import Floor"
   ]
  },
  {
   "cell_type": "markdown",
   "id": "a73c8ec7-a3c3-41e4-86fe-c4c91aca05fc",
   "metadata": {},
   "source": [
    "## Read All"
   ]
  },
  {
   "cell_type": "code",
   "execution_count": 2,
   "id": "7acbb5cf-1627-4d15-9efd-dd9162ea3fbf",
   "metadata": {},
   "outputs": [],
   "source": [
    "movies = Movie.objects.all() # QuerySet: Lazy object"
   ]
  },
  {
   "cell_type": "code",
   "execution_count": 4,
   "id": "dc3b2c42-f123-4488-9c67-123261158e4c",
   "metadata": {},
   "outputs": [
    {
     "data": {
      "text/plain": [
       "django.db.models.query.QuerySet"
      ]
     },
     "execution_count": 4,
     "metadata": {},
     "output_type": "execute_result"
    }
   ],
   "source": [
    "type(movies)"
   ]
  },
  {
   "cell_type": "code",
   "execution_count": 3,
   "id": "86dca62e-b43d-47d8-9427-f957bfae605c",
   "metadata": {},
   "outputs": [
    {
     "data": {
      "text/plain": [
       "[]"
      ]
     },
     "execution_count": 3,
     "metadata": {},
     "output_type": "execute_result"
    }
   ],
   "source": [
    "connection.queries"
   ]
  },
  {
   "cell_type": "code",
   "execution_count": 6,
   "id": "696eeeb6-b325-4119-aa1a-ed7ed0b12f97",
   "metadata": {},
   "outputs": [
    {
     "data": {
      "text/plain": [
       "<QuerySet [Movie<id=5257, title=Excuse Me, year=1915>, Movie<id=6366, title=Anton the Terrible, year=1916>, Movie<id=8351, title=The Mysterious Mrs. Musslewhite, year=1917>, Movie<id=8384, title=On the Level, year=1917>, Movie<id=8642, title=The Sunset Trail, year=1917>, Movie<id=8676, title=The Tides of Barnegat, year=1917>, Movie<id=8981, title=The Cruise of the Make-Believes, year=1918>, Movie<id=9124, title=Good Night, Paul, year=1918>, Movie<id=16251, title=Proud Flesh, year=1925>, Movie<id=19588, title=A Woman Against the World, year=1928>, Movie<id=9274, title=A Lady's Name, year=1918>, Movie<id=9403, title=Mrs. Leffingwell's Boots, year=1918>, Movie<id=9475, title=A Pair of Silk Stockings, year=1918>, Movie<id=9492, title=A Petticoat Pilot, year=1918>, Movie<id=9576, title=Sauce for the Goose, year=1918>, Movie<id=9666, title=Such a Little Pirate, year=1918>, Movie<id=9740, title=Unclaimed Goods, year=1918>, Movie<id=9767, title=Viviette, year=1918>, Movie<id=19699, title=The Black Watch, year=1929>, Movie<id=10099, title=Experimental Marriage, year=1919>, '...(remaining elements truncated)...']>"
      ]
     },
     "execution_count": 6,
     "metadata": {},
     "output_type": "execute_result"
    }
   ],
   "source": [
    "movies"
   ]
  },
  {
   "cell_type": "code",
   "execution_count": 7,
   "id": "15523798-5e84-43c0-86a3-837200974af4",
   "metadata": {},
   "outputs": [
    {
     "data": {
      "text/plain": [
       "[{'sql': 'SELECT \"movie\".\"id\", \"movie\".\"title\", \"movie\".\"release_year\", \"movie\".\"duration\", \"movie\".\"pg\", \"movie\".\"synopsis\", \"movie\".\"poster_uri\", \"movie\".\"color\", \"movie\".\"director_id\" FROM \"movie\" LIMIT 21',\n",
       "  'time': '0.000'}]"
      ]
     },
     "execution_count": 7,
     "metadata": {},
     "output_type": "execute_result"
    }
   ],
   "source": [
    "connection.queries"
   ]
  },
  {
   "cell_type": "code",
   "execution_count": 8,
   "id": "8fa357af-7443-4f88-a907-ede0668b4dd2",
   "metadata": {},
   "outputs": [
    {
     "data": {
      "text/plain": [
       "1187"
      ]
     },
     "execution_count": 8,
     "metadata": {},
     "output_type": "execute_result"
    }
   ],
   "source": [
    "len(movies)"
   ]
  },
  {
   "cell_type": "code",
   "execution_count": 9,
   "id": "cdd51efa-3377-4029-b74e-29cd2b7c066e",
   "metadata": {},
   "outputs": [
    {
     "data": {
      "text/plain": [
       "[{'sql': 'SELECT \"movie\".\"id\", \"movie\".\"title\", \"movie\".\"release_year\", \"movie\".\"duration\", \"movie\".\"pg\", \"movie\".\"synopsis\", \"movie\".\"poster_uri\", \"movie\".\"color\", \"movie\".\"director_id\" FROM \"movie\" LIMIT 21',\n",
       "  'time': '0.000'},\n",
       " {'sql': 'SELECT \"movie\".\"id\", \"movie\".\"title\", \"movie\".\"release_year\", \"movie\".\"duration\", \"movie\".\"pg\", \"movie\".\"synopsis\", \"movie\".\"poster_uri\", \"movie\".\"color\", \"movie\".\"director_id\" FROM \"movie\"',\n",
       "  'time': '0.016'}]"
      ]
     },
     "execution_count": 9,
     "metadata": {},
     "output_type": "execute_result"
    }
   ],
   "source": [
    "connection.queries"
   ]
  },
  {
   "cell_type": "code",
   "execution_count": 10,
   "id": "3f68f238-92b6-4193-ac66-a2c4fca45c65",
   "metadata": {},
   "outputs": [
    {
     "data": {
      "text/plain": [
       "[]"
      ]
     },
     "execution_count": 10,
     "metadata": {},
     "output_type": "execute_result"
    }
   ],
   "source": [
    "reset_queries()\n",
    "connection.queries"
   ]
  },
  {
   "cell_type": "code",
   "execution_count": 11,
   "id": "1ac09274-65e5-4f76-9abc-7d0d818dbac4",
   "metadata": {},
   "outputs": [],
   "source": [
    "persons = Person.objects.all()"
   ]
  },
  {
   "cell_type": "code",
   "execution_count": 12,
   "id": "5b57011d-e7e4-4620-8160-cefd2cb3bf31",
   "metadata": {},
   "outputs": [
    {
     "data": {
      "text/plain": [
       "[]"
      ]
     },
     "execution_count": 12,
     "metadata": {},
     "output_type": "execute_result"
    }
   ],
   "source": [
    "connection.queries"
   ]
  },
  {
   "cell_type": "code",
   "execution_count": 13,
   "id": "909dfefa-a7a1-4270-bb8b-6ffaf15e9cdf",
   "metadata": {},
   "outputs": [
    {
     "data": {
      "text/plain": [
       "<QuerySet [Person<id=1, name=Fred Astaire>, Person<id=2, name=Lauren Bacall>, Person<id=3, name=Brigitte Bardot>, Person<id=4, name=John Belushi>, Person<id=6, name=Ingrid Bergman>, Person<id=8, name=Marlon Brando>, Person<id=9, name=Richard Burton>, Person<id=11, name=Gary Cooper>, Person<id=13, name=Doris Day>, Person<id=15, name=James Dean>, Person<id=17, name=Marlene Dietrich>, Person<id=18, name=Kirk Douglas>, Person<id=20, name=Henry Fonda>, Person<id=21, name=Joan Fontaine>, Person<id=24, name=John Gielgud>, Person<id=25, name=Jerry Goldsmith>, Person<id=26, name=Cary Grant>, Person<id=27, name=Alec Guinness>, Person<id=28, name=Rita Hayworth>, Person<id=30, name=Audrey Hepburn>, '...(remaining elements truncated)...']>"
      ]
     },
     "execution_count": 13,
     "metadata": {},
     "output_type": "execute_result"
    }
   ],
   "source": [
    "persons[:100]"
   ]
  },
  {
   "cell_type": "code",
   "execution_count": 14,
   "id": "c076beb3-cb10-4b8b-b6cd-2431225f7b7f",
   "metadata": {},
   "outputs": [
    {
     "data": {
      "text/plain": [
       "[{'sql': 'SELECT \"person\".\"id\", \"person\".\"name\", \"person\".\"birthdate\" FROM \"person\" LIMIT 21',\n",
       "  'time': '0.016'}]"
      ]
     },
     "execution_count": 14,
     "metadata": {},
     "output_type": "execute_result"
    }
   ],
   "source": [
    "connection.queries"
   ]
  },
  {
   "cell_type": "code",
   "execution_count": 15,
   "id": "ce36f407-a676-49e3-8c09-e8fbc8e70bbc",
   "metadata": {},
   "outputs": [
    {
     "data": {
      "text/plain": [
       "<QuerySet [Person<id=151, name=Morgan Freeman>, Person<id=152, name=Richard Gere>, Person<id=153, name=Gina Gershon>, Person<id=154, name=Mel Gibson>, Person<id=155, name=Whoopi Goldberg>, Person<id=156, name=Jeff Goldblum>, Person<id=157, name=Linda Hamilton>, Person<id=158, name=Tom Hanks>, Person<id=159, name=Teri Hatcher>, Person<id=160, name=Ethan Hawke>, Person<id=161, name=Salma Hayek>, Person<id=162, name=Anne Heche>, Person<id=163, name=Dustin Hoffman>, Person<id=164, name=Anthony Hopkins>, Person<id=165, name=Ron Howard>, Person<id=166, name=Helen Hunt>, Person<id=168, name=Samuel L. Jackson>, Person<id=169, name=Tommy Lee Jones>, Person<id=171, name=Ashley Judd>, Person<id=172, name=Harvey Keitel>, '...(remaining elements truncated)...']>"
      ]
     },
     "execution_count": 15,
     "metadata": {},
     "output_type": "execute_result"
    }
   ],
   "source": [
    "persons[100:200]"
   ]
  },
  {
   "cell_type": "code",
   "execution_count": 16,
   "id": "11105ec9-c485-4b50-9ade-2ca2134865e6",
   "metadata": {},
   "outputs": [
    {
     "data": {
      "text/plain": [
       "[{'sql': 'SELECT \"person\".\"id\", \"person\".\"name\", \"person\".\"birthdate\" FROM \"person\" LIMIT 21',\n",
       "  'time': '0.016'},\n",
       " {'sql': 'SELECT \"person\".\"id\", \"person\".\"name\", \"person\".\"birthdate\" FROM \"person\" LIMIT 21 OFFSET 100',\n",
       "  'time': '0.000'}]"
      ]
     },
     "execution_count": 16,
     "metadata": {},
     "output_type": "execute_result"
    }
   ],
   "source": [
    "connection.queries"
   ]
  },
  {
   "cell_type": "markdown",
   "id": "af66decd-0f7d-4404-9feb-36e8ac83ec2d",
   "metadata": {},
   "source": [
    "## Read with filter"
   ]
  },
  {
   "cell_type": "code",
   "execution_count": 19,
   "id": "26b89cb1-de22-4b3d-8213-35ce258c62ba",
   "metadata": {},
   "outputs": [
    {
     "data": {
      "text/plain": [
       "<QuerySet [Movie<id=84750, title=Sword of the Valiant: The Legend of Sir Gawain and the Green Knight, year=1984>, Movie<id=86927, title=Bachelor Party, year=1984>, Movie<id=86979, title=Blood Simple, year=1984>, Movie<id=86984, title=Body Double, year=1984>, Movie<id=86998, title=Breakin', year=1984>, Movie<id=87062, title=City Heat, year=1984>, Movie<id=87078, title=Conan the Destroyer, year=1984>, Movie<id=87363, title=Gremlins, year=1984>, Movie<id=87469, title=Indiana Jones and the Temple of Doom, year=1984>, Movie<id=87727, title=Missing in Action, year=1984>, Movie<id=87739, title=Monaco Forever, year=1984>, Movie<id=88001, title=Rhinestone, year=1984>, Movie<id=88161, title=Splash, year=1984>, Movie<id=88247, title=The Terminator, year=1984>, Movie<id=88272, title=Tightrope, year=1984>, Movie<id=92264, title=Heroes Shed No Tears, year=1984>]>"
      ]
     },
     "execution_count": 19,
     "metadata": {},
     "output_type": "execute_result"
    }
   ],
   "source": [
    "# movies from 1984\n",
    "reset_queries()\n",
    "Movie.objects.filter(year=1984)"
   ]
  },
  {
   "cell_type": "code",
   "execution_count": 20,
   "id": "6bfab780-cb06-426b-96a0-6216b99c1df8",
   "metadata": {},
   "outputs": [
    {
     "data": {
      "text/plain": [
       "[{'sql': 'SELECT \"movie\".\"id\", \"movie\".\"title\", \"movie\".\"release_year\", \"movie\".\"duration\", \"movie\".\"pg\", \"movie\".\"synopsis\", \"movie\".\"poster_uri\", \"movie\".\"color\", \"movie\".\"director_id\" FROM \"movie\" WHERE \"movie\".\"release_year\" = 1984 LIMIT 21',\n",
       "  'time': '0.000'}]"
      ]
     },
     "execution_count": 20,
     "metadata": {},
     "output_type": "execute_result"
    }
   ],
   "source": [
    "connection.queries"
   ]
  },
  {
   "cell_type": "code",
   "execution_count": 21,
   "id": "ce944000-e8b1-4d81-ab3f-5b65b500eaff",
   "metadata": {},
   "outputs": [
    {
     "data": {
      "text/plain": [
       "<QuerySet [Movie<id=87363, title=Gremlins, year=1984>]>"
      ]
     },
     "execution_count": 21,
     "metadata": {},
     "output_type": "execute_result"
    }
   ],
   "source": [
    "# movies from 1984 and duration 106 minutes\n",
    "reset_queries()\n",
    "Movie.objects.filter(year=1984, duration=106)"
   ]
  },
  {
   "cell_type": "code",
   "execution_count": 22,
   "id": "de9bb15b-155b-4cb5-901d-4cd5bcd1d305",
   "metadata": {},
   "outputs": [
    {
     "data": {
      "text/plain": [
       "[{'sql': 'SELECT \"movie\".\"id\", \"movie\".\"title\", \"movie\".\"release_year\", \"movie\".\"duration\", \"movie\".\"pg\", \"movie\".\"synopsis\", \"movie\".\"poster_uri\", \"movie\".\"color\", \"movie\".\"director_id\" FROM \"movie\" WHERE (\"movie\".\"duration\" = 106 AND \"movie\".\"release_year\" = 1984) LIMIT 21',\n",
       "  'time': '0.000'}]"
      ]
     },
     "execution_count": 22,
     "metadata": {},
     "output_type": "execute_result"
    }
   ],
   "source": [
    "connection.queries"
   ]
  },
  {
   "cell_type": "markdown",
   "id": "864b8e5b-a65b-45b1-b067-57a7f65b12bf",
   "metadata": {},
   "source": [
    "### Exercice using lookups:\n",
    "Extract movies with:\n",
    "- title = 'the man who knew too much' (case insensitive)\n",
    "- title starting with 'the man who' (case insensitive)\n",
    "- title containing 'man' (case insensitive)\n",
    "- year > 2019\n",
    "- year between  1980 and 1989\n",
    "- duration is null\n",
    "\n",
    "Extract persons with:\n",
    "- birth year 1930\n",
    "- birth year before 1900\n",
    "\n",
    "Doc: \n",
    "- https://docs.djangoproject.com/en/4.2/ref/models/querysets/\n",
    "- https://docs.djangoproject.com/en/4.2/ref/models/querysets/#id4 (lookup list)"
   ]
  },
  {
   "cell_type": "code",
   "execution_count": 23,
   "id": "ee7453ca-3215-4539-bfc2-e52d3b4df0b2",
   "metadata": {},
   "outputs": [
    {
     "data": {
      "text/plain": [
       "<QuerySet [Movie<id=25452, title=The Man Who Knew Too Much, year=1934>, Movie<id=49470, title=The Man Who Knew Too Much, year=1956>]>"
      ]
     },
     "execution_count": 23,
     "metadata": {},
     "output_type": "execute_result"
    }
   ],
   "source": [
    "reset_queries()\n",
    "Movie.objects.filter(title__iexact = 'the man who knew too much')"
   ]
  },
  {
   "cell_type": "code",
   "execution_count": 24,
   "id": "f6019a40-9a62-41a5-9ffa-98dac038261f",
   "metadata": {},
   "outputs": [
    {
     "data": {
      "text/plain": [
       "[{'sql': 'SELECT \"movie\".\"id\", \"movie\".\"title\", \"movie\".\"release_year\", \"movie\".\"duration\", \"movie\".\"pg\", \"movie\".\"synopsis\", \"movie\".\"poster_uri\", \"movie\".\"color\", \"movie\".\"director_id\" FROM \"movie\" WHERE UPPER(\"movie\".\"title\"::text) = UPPER(\\'the man who knew too much\\') LIMIT 21',\n",
       "  'time': '0.015'}]"
      ]
     },
     "execution_count": 24,
     "metadata": {},
     "output_type": "execute_result"
    }
   ],
   "source": [
    "connection.queries"
   ]
  },
  {
   "cell_type": "code",
   "execution_count": 27,
   "id": "56d2203f-1546-4c8e-a425-831ed5698943",
   "metadata": {},
   "outputs": [
    {
     "data": {
      "text/plain": [
       "<QuerySet [Movie<id=20142, title=The Manxman, year=1929>, Movie<id=24293, title=The Man from Monterey, year=1933>, Movie<id=25452, title=The Man Who Knew Too Much, year=1934>, Movie<id=25455, title=The Man from Utah, year=1934>, Movie<id=49470, title=The Man Who Knew Too Much, year=1956>, Movie<id=56217, title=The Man Who Shot Liberty Valance, year=1962>, Movie<id=71807, title=The Man with the Golden Gun, year=1974>, Movie<id=73341, title=The Man Who Would Be King, year=1975>, Movie<id=89543, title=The Man with One Red Shoe, year=1985>, Movie<id=243133, title=The Man Who Wasn't There, year=2001>]>"
      ]
     },
     "execution_count": 27,
     "metadata": {},
     "output_type": "execute_result"
    }
   ],
   "source": [
    "# startswith (case sensitive), istartswith (case insensitive)\n",
    "reset_queries()\n",
    "Movie.objects.filter(title__istartswith = 'the man')"
   ]
  },
  {
   "cell_type": "code",
   "execution_count": 28,
   "id": "9ceec974-792d-4590-bc13-feb6ac9761b6",
   "metadata": {},
   "outputs": [
    {
     "data": {
      "text/plain": [
       "[{'sql': 'SELECT \"movie\".\"id\", \"movie\".\"title\", \"movie\".\"release_year\", \"movie\".\"duration\", \"movie\".\"pg\", \"movie\".\"synopsis\", \"movie\".\"poster_uri\", \"movie\".\"color\", \"movie\".\"director_id\" FROM \"movie\" WHERE UPPER(\"movie\".\"title\"::text) LIKE UPPER(\\'the man%\\') LIMIT 21',\n",
       "  'time': '0.000'}]"
      ]
     },
     "execution_count": 28,
     "metadata": {},
     "output_type": "execute_result"
    }
   ],
   "source": [
    "connection.queries"
   ]
  },
  {
   "cell_type": "code",
   "execution_count": 30,
   "id": "b1dba827-e4bc-4672-bb86-d90a34e17c61",
   "metadata": {},
   "outputs": [
    {
     "data": {
      "text/plain": [
       "<QuerySet [Movie<id=19588, title=A Woman Against the World, year=1928>, Movie<id=10389, title=The Lottery Man, year=1919>, Movie<id=10637, title=Romance and Arabella, year=1919>, Movie<id=13126, title=Find the Woman, year=1922>, Movie<id=14689, title=The Average Woman, year=1924>, Movie<id=17417, title=The Song and Dance Man, year=1926>, Movie<id=17936, title=The Girl in the Pullman, year=1927>, Movie<id=18972, title=Hangman's House, year=1928>, Movie<id=20142, title=The Manxman, year=1929>, Movie<id=21319, title=Rough Romance, year=1930>, Movie<id=21911, title=Girls Demand Excitement, year=1931>, Movie<id=24293, title=The Man from Monterey, year=1933>, Movie<id=25452, title=The Man Who Knew Too Much, year=1934>, Movie<id=25455, title=The Man from Utah, year=1934>, Movie<id=32383, title=Dark Command, year=1940>, Movie<id=33871, title=A Man Betrayed, year=1941>, Movie<id=39152, title=Angel and the Badman, year=1947>, Movie<id=45061, title=The Quiet Man, year=1952>, Movie<id=49470, title=The Man Who Knew Too Much, year=1956>, Movie<id=51207, title=The Wrong Man, year=1956>, '...(remaining elements truncated)...']>"
      ]
     },
     "execution_count": 30,
     "metadata": {},
     "output_type": "execute_result"
    }
   ],
   "source": [
    "reset_queries()\n",
    "Movie.objects.filter(title__icontains = 'man')"
   ]
  },
  {
   "cell_type": "code",
   "execution_count": 31,
   "id": "cd7e3924-3692-45ad-88fb-8a75617a4ef9",
   "metadata": {},
   "outputs": [
    {
     "data": {
      "text/plain": [
       "[{'sql': 'SELECT \"movie\".\"id\", \"movie\".\"title\", \"movie\".\"release_year\", \"movie\".\"duration\", \"movie\".\"pg\", \"movie\".\"synopsis\", \"movie\".\"poster_uri\", \"movie\".\"color\", \"movie\".\"director_id\" FROM \"movie\" WHERE UPPER(\"movie\".\"title\"::text) LIKE UPPER(\\'%man%\\') LIMIT 21',\n",
       "  'time': '0.000'}]"
      ]
     },
     "execution_count": 31,
     "metadata": {},
     "output_type": "execute_result"
    }
   ],
   "source": [
    "connection.queries"
   ]
  },
  {
   "cell_type": "code",
   "execution_count": 32,
   "id": "a281bdaf-5e9c-4e40-962a-01bec31a2644",
   "metadata": {},
   "outputs": [
    {
     "data": {
      "text/plain": [
       "<QuerySet [Movie<id=1502397, title=Bad Boys for Life, year=2020>, Movie<id=1634106, title=Bloodshot, year=2020>, Movie<id=6048922, title=Greyhound, year=2020>, Movie<id=7504726, title=The Call of the Wild, year=2020>]>"
      ]
     },
     "execution_count": 32,
     "metadata": {},
     "output_type": "execute_result"
    }
   ],
   "source": [
    "# gt: >\n",
    "# gte: >=\n",
    "# lt: <\n",
    "# lte: <=\n",
    "reset_queries()\n",
    "Movie.objects.filter(year__gt = 2019)"
   ]
  },
  {
   "cell_type": "code",
   "execution_count": 33,
   "id": "766c47aa-b029-4d9a-8515-319149d20963",
   "metadata": {},
   "outputs": [
    {
     "data": {
      "text/plain": [
       "[{'sql': 'SELECT \"movie\".\"id\", \"movie\".\"title\", \"movie\".\"release_year\", \"movie\".\"duration\", \"movie\".\"pg\", \"movie\".\"synopsis\", \"movie\".\"poster_uri\", \"movie\".\"color\", \"movie\".\"director_id\" FROM \"movie\" WHERE \"movie\".\"release_year\" > 2019 LIMIT 21',\n",
       "  'time': '0.016'}]"
      ]
     },
     "execution_count": 33,
     "metadata": {},
     "output_type": "execute_result"
    }
   ],
   "source": [
    "connection.queries"
   ]
  },
  {
   "cell_type": "code",
   "execution_count": 45,
   "id": "ebd1f1ac-7839-40fa-a8cb-8cdb27252069",
   "metadata": {},
   "outputs": [
    {
     "data": {
      "text/plain": [
       "<QuerySet [Movie<id=76580, title=Qian zuo guai, year=1980>, Movie<id=80031, title=Tom Horn, year=1980>, Movie<id=83284, title=Victory, year=1981>, Movie<id=97770, title=Lock Up, year=1989>, Movie<id=80377, title=Any Which Way You Can, year=1980>, Movie<id=80455, title=The Blues Brothers, year=1980>, Movie<id=80472, title=Bronco Billy, year=1980>, Movie<id=80661, title=Dressed to Kill, year=1980>, Movie<id=80684, title=Star Wars: Episode V - The Empire Strikes Back, year=1980>, Movie<id=80850, title=He Knows You're Alone, year=1980>, Movie<id=80907, title=The Hunter, year=1980>, Movie<id=81398, title=Raging Bull, year=1980>, Movie<id=81633, title=Time Bandits, year=1981>, Movie<id=82085, title=Blow Out, year=1981>, Movie<id=82198, title=Conan the Barbarian, year=1982>, Movie<id=82398, title=For Your Eyes Only, year=1981>, Movie<id=82535, title=Hua ji shi dai, year=1981>, Movie<id=82762, title=Mo deng tian shi, year=1982>, Movie<id=82817, title=Nighthawks, year=1981>, Movie<id=82869, title=Outland, year=1981>, '...(remaining elements truncated)...']>"
      ]
     },
     "execution_count": 45,
     "metadata": {},
     "output_type": "execute_result"
    }
   ],
   "source": [
    "reset_queries()\n",
    "result = Movie.objects.filter(year__range=(1980, 1989))\n",
    "result"
   ]
  },
  {
   "cell_type": "code",
   "execution_count": 46,
   "id": "7d64ae58-2946-417a-844a-a0be8f37c98e",
   "metadata": {},
   "outputs": [
    {
     "data": {
      "text/plain": [
       "[{'sql': 'SELECT \"movie\".\"id\", \"movie\".\"title\", \"movie\".\"release_year\", \"movie\".\"duration\", \"movie\".\"pg\", \"movie\".\"synopsis\", \"movie\".\"poster_uri\", \"movie\".\"color\", \"movie\".\"director_id\" FROM \"movie\" WHERE \"movie\".\"release_year\" BETWEEN 1980 AND 1989 LIMIT 21',\n",
       "  'time': '0.000'}]"
      ]
     },
     "execution_count": 46,
     "metadata": {},
     "output_type": "execute_result"
    }
   ],
   "source": [
    "connection.queries"
   ]
  },
  {
   "cell_type": "code",
   "execution_count": 47,
   "id": "73f8f197-feb2-4b04-91f4-2268724b3d24",
   "metadata": {},
   "outputs": [
    {
     "data": {
      "text/plain": [
       "1989"
      ]
     },
     "execution_count": 47,
     "metadata": {},
     "output_type": "execute_result"
    }
   ],
   "source": [
    "max(m.year for m in result)"
   ]
  },
  {
   "cell_type": "code",
   "execution_count": 48,
   "id": "2e288a55-1227-4ae6-982d-1d394331e31f",
   "metadata": {},
   "outputs": [
    {
     "data": {
      "text/plain": [
       "[{'sql': 'SELECT \"movie\".\"id\", \"movie\".\"title\", \"movie\".\"release_year\", \"movie\".\"duration\", \"movie\".\"pg\", \"movie\".\"synopsis\", \"movie\".\"poster_uri\", \"movie\".\"color\", \"movie\".\"director_id\" FROM \"movie\" WHERE \"movie\".\"release_year\" BETWEEN 1980 AND 1989 LIMIT 21',\n",
       "  'time': '0.000'},\n",
       " {'sql': 'SELECT \"movie\".\"id\", \"movie\".\"title\", \"movie\".\"release_year\", \"movie\".\"duration\", \"movie\".\"pg\", \"movie\".\"synopsis\", \"movie\".\"poster_uri\", \"movie\".\"color\", \"movie\".\"director_id\" FROM \"movie\" WHERE \"movie\".\"release_year\" BETWEEN 1980 AND 1989',\n",
       "  'time': '0.015'}]"
      ]
     },
     "execution_count": 48,
     "metadata": {},
     "output_type": "execute_result"
    }
   ],
   "source": [
    "connection.queries"
   ]
  },
  {
   "cell_type": "code",
   "execution_count": 41,
   "id": "b81593b2-081b-4cf9-883c-3eb06a23b7c7",
   "metadata": {},
   "outputs": [
    {
     "data": {
      "text/plain": [
       "<QuerySet [Movie<id=76580, title=Qian zuo guai, year=1980>, Movie<id=80031, title=Tom Horn, year=1980>, Movie<id=83284, title=Victory, year=1981>, Movie<id=97770, title=Lock Up, year=1989>, Movie<id=80377, title=Any Which Way You Can, year=1980>, Movie<id=80455, title=The Blues Brothers, year=1980>, Movie<id=80472, title=Bronco Billy, year=1980>, Movie<id=80661, title=Dressed to Kill, year=1980>, Movie<id=80684, title=Star Wars: Episode V - The Empire Strikes Back, year=1980>, Movie<id=80850, title=He Knows You're Alone, year=1980>, Movie<id=80907, title=The Hunter, year=1980>, Movie<id=81398, title=Raging Bull, year=1980>, Movie<id=81633, title=Time Bandits, year=1981>, Movie<id=82085, title=Blow Out, year=1981>, Movie<id=82198, title=Conan the Barbarian, year=1982>, Movie<id=82398, title=For Your Eyes Only, year=1981>, Movie<id=82535, title=Hua ji shi dai, year=1981>, Movie<id=82762, title=Mo deng tian shi, year=1982>, Movie<id=82817, title=Nighthawks, year=1981>, Movie<id=82869, title=Outland, year=1981>, '...(remaining elements truncated)...']>"
      ]
     },
     "execution_count": 41,
     "metadata": {},
     "output_type": "execute_result"
    }
   ],
   "source": [
    "reset_queries()\n",
    "Movie.objects.filter(year__range=(1980, 1989)) \\\n",
    "    .exclude(year=1985)"
   ]
  },
  {
   "cell_type": "code",
   "execution_count": 42,
   "id": "1dbc88fd-5cb9-481f-8794-fecefaa10cd6",
   "metadata": {},
   "outputs": [
    {
     "data": {
      "text/plain": [
       "[{'sql': 'SELECT \"movie\".\"id\", \"movie\".\"title\", \"movie\".\"release_year\", \"movie\".\"duration\", \"movie\".\"pg\", \"movie\".\"synopsis\", \"movie\".\"poster_uri\", \"movie\".\"color\", \"movie\".\"director_id\" FROM \"movie\" WHERE (\"movie\".\"release_year\" BETWEEN 1980 AND 1989 AND NOT (\"movie\".\"release_year\" = 1985)) LIMIT 21',\n",
       "  'time': '0.000'}]"
      ]
     },
     "execution_count": 42,
     "metadata": {},
     "output_type": "execute_result"
    }
   ],
   "source": [
    "connection.queries"
   ]
  },
  {
   "cell_type": "code",
   "execution_count": null,
   "id": "ca949805-fcef-4cc4-9df1-87d2824bbd7a",
   "metadata": {},
   "outputs": [],
   "source": []
  },
  {
   "cell_type": "code",
   "execution_count": 37,
   "id": "3e13c68a-a758-4e13-89d9-5151ec5d9d9e",
   "metadata": {},
   "outputs": [
    {
     "data": {
      "text/plain": [
       "[Movie<id=185446, title=Gu lian hua, year=1985>,\n",
       " Movie<id=359715, title=My Best Friend's Birthday, year=1987>,\n",
       " Movie<id=1813593, title=Sam Raimi Early Shorts, year=1985>,\n",
       " Movie<id=1959602, title=Vegetables, year=1989>,\n",
       " Movie<id=7763324, title=Amazing Stories, year=1986>]"
      ]
     },
     "execution_count": 37,
     "metadata": {},
     "output_type": "execute_result"
    }
   ],
   "source": [
    "result[len(result)-5:]"
   ]
  },
  {
   "cell_type": "code",
   "execution_count": 38,
   "id": "2457806b-3e13-4740-8ac1-6a3741eaa8eb",
   "metadata": {},
   "outputs": [
    {
     "data": {
      "text/plain": [
       "<QuerySet [Person<id=125, name=Sean Connery>, Person<id=142, name=Clint Eastwood>, Person<id=432, name=Gene Hackman>, Person<id=537, name=Steve McQueen>, Person<id=728, name=Mario Adorf>, Person<id=1262, name=Ben Gazzara>, Person<id=1321, name=Richard Harris>, Person<id=1335, name=Tippi Hedren>, Person<id=1687, name=Gena Rowlands>, Person<id=1703, name=Maximilian Schell>, Person<id=1792, name=Rod Taylor>, Person<id=1822, name=Robert Wagner>, Person<id=3679, name=Kate Reid>, Person<id=4877, name=Roy Edward Disney>, Person<id=5162, name=Robert Loggia>, Person<id=5196, name=Paul Mazursky>, Person<id=43484, name=Jack Axelrod>, Person<id=53364, name=Chris Barber>, Person<id=58972, name=Dominic Barto>, Person<id=60789, name=Charles Bateman>, '...(remaining elements truncated)...']>"
      ]
     },
     "execution_count": 38,
     "metadata": {},
     "output_type": "execute_result"
    }
   ],
   "source": [
    "Person.objects.filter(birthdate__year=1930)"
   ]
  },
  {
   "cell_type": "code",
   "execution_count": 39,
   "id": "6e116db9-1f9f-4a36-a4fd-01b9e237cab6",
   "metadata": {},
   "outputs": [
    {
     "data": {
      "text/plain": [
       "<QuerySet [Person<id=1, name=Fred Astaire>, Person<id=33, name=Alfred Hitchcock>, Person<id=64, name=Edward G. Robinson>, Person<id=68, name=Randolph Scott>, Person<id=252, name=Robert Ellis>, Person<id=752, name=Judith Anderson>, Person<id=856, name=Ethel Barrymore>, Person<id=912, name=Jack Benny>, Person<id=964, name=Charles Boyer>, Person<id=974, name=Walter Brennan>, Person<id=1124, name=Cecil B. DeMille>, Person<id=1211, name=W.C. Fields>, Person<id=1230, name=Harrison Ford>, Person<id=1273, name=Lillian Gish>, Person<id=1316, name=Oliver Hardy>, Person<id=1452, name=Charles Laughton>, Person<id=1647, name=Claude Rains>, Person<id=1890, name=Hugh Herbert>, Person<id=1916, name=Arletty>, Person<id=1932, name=Richard Barthelmess>, '...(remaining elements truncated)...']>"
      ]
     },
     "execution_count": 39,
     "metadata": {},
     "output_type": "execute_result"
    }
   ],
   "source": [
    "Person.objects.filter(birthdate__year__lt=1900)"
   ]
  },
  {
   "cell_type": "code",
   "execution_count": 49,
   "id": "3d1df3e2-8fcf-4a47-80c4-9744fe534c7f",
   "metadata": {},
   "outputs": [
    {
     "data": {
      "text/plain": [
       "<QuerySet [Movie<id=76580, title=Qian zuo guai, year=1980>, Movie<id=80031, title=Tom Horn, year=1980>, Movie<id=80377, title=Any Which Way You Can, year=1980>, Movie<id=80455, title=The Blues Brothers, year=1980>, Movie<id=80472, title=Bronco Billy, year=1980>, Movie<id=80661, title=Dressed to Kill, year=1980>, Movie<id=80684, title=Star Wars: Episode V - The Empire Strikes Back, year=1980>, Movie<id=80850, title=He Knows You're Alone, year=1980>, Movie<id=80907, title=The Hunter, year=1980>, Movie<id=81398, title=Raging Bull, year=1980>, Movie<id=82198, title=Conan the Barbarian, year=1982>, Movie<id=82762, title=Mo deng tian shi, year=1982>, Movie<id=82880, title=Il pap'occhio, year=1980>, Movie<id=83605, title=Ba cai Lin Ya Zhen, year=1982>, Movie<id=83658, title=Blade Runner, year=1982>, Movie<id=83866, title=E.T. the Extra-Terrestrial, year=1982>, Movie<id=83943, title=Firefox, year=1982>, Movie<id=83944, title=First Blood, year=1982>, Movie<id=83947, title=Five Days One Summer, year=1982>, Movie<id=84088, title=Honkytonk Man, year=1982>, '...(remaining elements truncated)...']>"
      ]
     },
     "execution_count": 49,
     "metadata": {},
     "output_type": "execute_result"
    }
   ],
   "source": [
    "reset_queries()\n",
    "Movie.objects.filter(year__in=(1980, 1982, 1985))"
   ]
  },
  {
   "cell_type": "code",
   "execution_count": 50,
   "id": "8e396704-1579-4b88-b65e-d41316ab2895",
   "metadata": {},
   "outputs": [
    {
     "data": {
      "text/plain": [
       "[{'sql': 'SELECT \"movie\".\"id\", \"movie\".\"title\", \"movie\".\"release_year\", \"movie\".\"duration\", \"movie\".\"pg\", \"movie\".\"synopsis\", \"movie\".\"poster_uri\", \"movie\".\"color\", \"movie\".\"director_id\" FROM \"movie\" WHERE \"movie\".\"release_year\" IN (1980, 1982, 1985) LIMIT 21',\n",
       "  'time': '0.000'}]"
      ]
     },
     "execution_count": 50,
     "metadata": {},
     "output_type": "execute_result"
    }
   ],
   "source": [
    "connection.queries"
   ]
  },
  {
   "cell_type": "markdown",
   "id": "27be6575-e266-418f-8a3c-cad7948aa39d",
   "metadata": {},
   "source": [
    "### Exercise using functions\n",
    "- Q: Query\n",
    "- Inline function: Coalesce, Concat, Round, Ceil, Floor, Extract, ...\n",
    "\n",
    "Extract movies with:\n",
    "- duration > 300 or duration is null\n",
    "- decade = 198"
   ]
  },
  {
   "cell_type": "code",
   "execution_count": 71,
   "id": "bb3a8d19-3a91-4d78-8b02-c3479710c0fb",
   "metadata": {},
   "outputs": [
    {
     "data": {
      "text/plain": [
       "<QuerySet [Movie<id=13444, title=Number 13, year=1922>, Movie<id=77667, title=Ha luo, ye gui ren, year=1978>, Movie<id=108941, title=The Stand, year=1994>, Movie<id=173893, title=Hefty's, year=1983>, Movie<id=185446, title=Gu lian hua, year=1985>, Movie<id=185906, title=Band of Brothers, year=2001>, Movie<id=374463, title=The Pacific, year=2010>, Movie<id=2305700, title=London 2012 Olympic Opening Ceremony: Isles of Wonder, year=2012>, Movie<id=4824394, title=Terminator Genisys: The YouTube Chronicles, year=2015>, Movie<id=6344712, title=The Square Root, year=1969>]>"
      ]
     },
     "execution_count": 71,
     "metadata": {},
     "output_type": "execute_result"
    }
   ],
   "source": [
    "reset_queries()\n",
    "result = Movie.objects.filter(Q(duration__gt = 300) | Q(duration__isnull=True))\n",
    "result"
   ]
  },
  {
   "cell_type": "code",
   "execution_count": 44,
   "id": "295445e3-1c6d-4bec-a34f-d6103c893fee",
   "metadata": {},
   "outputs": [
    {
     "data": {
      "text/plain": [
       "[{'sql': 'SELECT \"movie\".\"id\", \"movie\".\"title\", \"movie\".\"release_year\", \"movie\".\"duration\", \"movie\".\"pg\", \"movie\".\"synopsis\", \"movie\".\"poster_uri\", \"movie\".\"color\", \"movie\".\"director_id\" FROM \"movie\" WHERE (\"movie\".\"duration\" > 300 OR \"movie\".\"duration\" IS NULL) LIMIT 21',\n",
       "  'time': '0.000'}]"
      ]
     },
     "execution_count": 44,
     "metadata": {},
     "output_type": "execute_result"
    }
   ],
   "source": [
    "connection.queries"
   ]
  },
  {
   "cell_type": "code",
   "execution_count": 72,
   "id": "1a2f9de0-ec20-45de-aeaa-00a075e1db46",
   "metadata": {},
   "outputs": [
    {
     "data": {
      "text/plain": [
       "Movie<id=13444, title=Number 13, year=1922>"
      ]
     },
     "execution_count": 72,
     "metadata": {},
     "output_type": "execute_result"
    }
   ],
   "source": [
    "m = result[0]\n",
    "m"
   ]
  },
  {
   "cell_type": "code",
   "execution_count": 73,
   "id": "0dae0517-e7f5-44fb-96dc-3e735b156fcf",
   "metadata": {},
   "outputs": [
    {
     "data": {
      "text/plain": [
       "Person<id=33, name=Alfred Hitchcock>"
      ]
     },
     "execution_count": 73,
     "metadata": {},
     "output_type": "execute_result"
    }
   ],
   "source": [
    "m.director"
   ]
  },
  {
   "cell_type": "code",
   "execution_count": 74,
   "id": "ebd6260b-20f8-49ff-97b5-4049de841e3e",
   "metadata": {},
   "outputs": [
    {
     "data": {
      "text/plain": [
       "[{'sql': 'SELECT \"movie\".\"id\", \"movie\".\"title\", \"movie\".\"release_year\", \"movie\".\"duration\", \"movie\".\"pg\", \"movie\".\"synopsis\", \"movie\".\"poster_uri\", \"movie\".\"color\", \"movie\".\"director_id\" FROM \"movie\" WHERE (\"movie\".\"duration\" > 300 OR \"movie\".\"duration\" IS NULL) LIMIT 21',\n",
       "  'time': '0.015'},\n",
       " {'sql': 'SELECT \"movie\".\"id\", \"movie\".\"title\", \"movie\".\"release_year\", \"movie\".\"duration\", \"movie\".\"pg\", \"movie\".\"synopsis\", \"movie\".\"poster_uri\", \"movie\".\"color\", \"movie\".\"director_id\" FROM \"movie\" WHERE (\"movie\".\"duration\" > 300 OR \"movie\".\"duration\" IS NULL) LIMIT 1',\n",
       "  'time': '0.000'},\n",
       " {'sql': 'SELECT \"person\".\"id\", \"person\".\"name\", \"person\".\"birthdate\" FROM \"person\" WHERE \"person\".\"id\" = 33 LIMIT 21',\n",
       "  'time': '0.016'}]"
      ]
     },
     "execution_count": 74,
     "metadata": {},
     "output_type": "execute_result"
    }
   ],
   "source": [
    "connection.queries"
   ]
  },
  {
   "cell_type": "code",
   "execution_count": 75,
   "id": "c75324ef-879b-4d78-b692-5e3a923cdbab",
   "metadata": {},
   "outputs": [
    {
     "data": {
      "text/plain": [
       "33"
      ]
     },
     "execution_count": 75,
     "metadata": {},
     "output_type": "execute_result"
    }
   ],
   "source": [
    "m.director_id"
   ]
  },
  {
   "cell_type": "code",
   "execution_count": 56,
   "id": "9a26f0b3-4200-4c71-8cd4-7add8bc0fd4a",
   "metadata": {
    "collapsed": true,
    "jupyter": {
     "outputs_hidden": true
    }
   },
   "outputs": [
    {
     "ename": "TypeError",
     "evalue": "cannot unpack non-iterable bool object",
     "output_type": "error",
     "traceback": [
      "\u001b[1;31m---------------------------------------------------------------------\u001b[0m",
      "\u001b[1;31mTypeError\u001b[0m                           Traceback (most recent call last)",
      "Cell \u001b[1;32mIn[56], line 1\u001b[0m\n\u001b[1;32m----> 1\u001b[0m \u001b[43mMovie\u001b[49m\u001b[38;5;241;43m.\u001b[39;49m\u001b[43mobjects\u001b[49m\u001b[38;5;241;43m.\u001b[39;49m\u001b[43mfilter\u001b[49m\u001b[43m(\u001b[49m\u001b[43m(\u001b[49m\u001b[43mF\u001b[49m\u001b[43m(\u001b[49m\u001b[38;5;124;43m'\u001b[39;49m\u001b[38;5;124;43myear\u001b[39;49m\u001b[38;5;124;43m'\u001b[39;49m\u001b[43m)\u001b[49m\u001b[43m \u001b[49m\u001b[38;5;241;43m/\u001b[39;49m\u001b[43m \u001b[49m\u001b[38;5;241;43m10\u001b[39;49m\u001b[43m)\u001b[49m\u001b[43m \u001b[49m\u001b[38;5;241;43m==\u001b[39;49m\u001b[43m \u001b[49m\u001b[38;5;241;43m198\u001b[39;49m\u001b[43m)\u001b[49m\n",
      "File \u001b[1;32m~\\anaconda3\\envs\\django42\\Lib\\site-packages\\django\\db\\models\\manager.py:87\u001b[0m, in \u001b[0;36mBaseManager._get_queryset_methods.<locals>.create_method.<locals>.manager_method\u001b[1;34m(self, *args, **kwargs)\u001b[0m\n\u001b[0;32m     85\u001b[0m \u001b[38;5;129m@wraps\u001b[39m(method)\n\u001b[0;32m     86\u001b[0m \u001b[38;5;28;01mdef\u001b[39;00m \u001b[38;5;21mmanager_method\u001b[39m(\u001b[38;5;28mself\u001b[39m, \u001b[38;5;241m*\u001b[39margs, \u001b[38;5;241m*\u001b[39m\u001b[38;5;241m*\u001b[39mkwargs):\n\u001b[1;32m---> 87\u001b[0m     \u001b[38;5;28;01mreturn\u001b[39;00m \u001b[38;5;28;43mgetattr\u001b[39;49m\u001b[43m(\u001b[49m\u001b[38;5;28;43mself\u001b[39;49m\u001b[38;5;241;43m.\u001b[39;49m\u001b[43mget_queryset\u001b[49m\u001b[43m(\u001b[49m\u001b[43m)\u001b[49m\u001b[43m,\u001b[49m\u001b[43m \u001b[49m\u001b[43mname\u001b[49m\u001b[43m)\u001b[49m\u001b[43m(\u001b[49m\u001b[38;5;241;43m*\u001b[39;49m\u001b[43margs\u001b[49m\u001b[43m,\u001b[49m\u001b[43m \u001b[49m\u001b[38;5;241;43m*\u001b[39;49m\u001b[38;5;241;43m*\u001b[39;49m\u001b[43mkwargs\u001b[49m\u001b[43m)\u001b[49m\n",
      "File \u001b[1;32m~\\anaconda3\\envs\\django42\\Lib\\site-packages\\django\\db\\models\\query.py:1436\u001b[0m, in \u001b[0;36mQuerySet.filter\u001b[1;34m(self, *args, **kwargs)\u001b[0m\n\u001b[0;32m   1431\u001b[0m \u001b[38;5;250m\u001b[39m\u001b[38;5;124;03m\"\"\"\u001b[39;00m\n\u001b[0;32m   1432\u001b[0m \u001b[38;5;124;03mReturn a new QuerySet instance with the args ANDed to the existing\u001b[39;00m\n\u001b[0;32m   1433\u001b[0m \u001b[38;5;124;03mset.\u001b[39;00m\n\u001b[0;32m   1434\u001b[0m \u001b[38;5;124;03m\"\"\"\u001b[39;00m\n\u001b[0;32m   1435\u001b[0m \u001b[38;5;28mself\u001b[39m\u001b[38;5;241m.\u001b[39m_not_support_combined_queries(\u001b[38;5;124m\"\u001b[39m\u001b[38;5;124mfilter\u001b[39m\u001b[38;5;124m\"\u001b[39m)\n\u001b[1;32m-> 1436\u001b[0m \u001b[38;5;28;01mreturn\u001b[39;00m \u001b[38;5;28;43mself\u001b[39;49m\u001b[38;5;241;43m.\u001b[39;49m\u001b[43m_filter_or_exclude\u001b[49m\u001b[43m(\u001b[49m\u001b[38;5;28;43;01mFalse\u001b[39;49;00m\u001b[43m,\u001b[49m\u001b[43m \u001b[49m\u001b[43margs\u001b[49m\u001b[43m,\u001b[49m\u001b[43m \u001b[49m\u001b[43mkwargs\u001b[49m\u001b[43m)\u001b[49m\n",
      "File \u001b[1;32m~\\anaconda3\\envs\\django42\\Lib\\site-packages\\django\\db\\models\\query.py:1454\u001b[0m, in \u001b[0;36mQuerySet._filter_or_exclude\u001b[1;34m(self, negate, args, kwargs)\u001b[0m\n\u001b[0;32m   1452\u001b[0m     clone\u001b[38;5;241m.\u001b[39m_deferred_filter \u001b[38;5;241m=\u001b[39m negate, args, kwargs\n\u001b[0;32m   1453\u001b[0m \u001b[38;5;28;01melse\u001b[39;00m:\n\u001b[1;32m-> 1454\u001b[0m     \u001b[43mclone\u001b[49m\u001b[38;5;241;43m.\u001b[39;49m\u001b[43m_filter_or_exclude_inplace\u001b[49m\u001b[43m(\u001b[49m\u001b[43mnegate\u001b[49m\u001b[43m,\u001b[49m\u001b[43m \u001b[49m\u001b[43margs\u001b[49m\u001b[43m,\u001b[49m\u001b[43m \u001b[49m\u001b[43mkwargs\u001b[49m\u001b[43m)\u001b[49m\n\u001b[0;32m   1455\u001b[0m \u001b[38;5;28;01mreturn\u001b[39;00m clone\n",
      "File \u001b[1;32m~\\anaconda3\\envs\\django42\\Lib\\site-packages\\django\\db\\models\\query.py:1461\u001b[0m, in \u001b[0;36mQuerySet._filter_or_exclude_inplace\u001b[1;34m(self, negate, args, kwargs)\u001b[0m\n\u001b[0;32m   1459\u001b[0m     \u001b[38;5;28mself\u001b[39m\u001b[38;5;241m.\u001b[39m_query\u001b[38;5;241m.\u001b[39madd_q(\u001b[38;5;241m~\u001b[39mQ(\u001b[38;5;241m*\u001b[39margs, \u001b[38;5;241m*\u001b[39m\u001b[38;5;241m*\u001b[39mkwargs))\n\u001b[0;32m   1460\u001b[0m \u001b[38;5;28;01melse\u001b[39;00m:\n\u001b[1;32m-> 1461\u001b[0m     \u001b[38;5;28;43mself\u001b[39;49m\u001b[38;5;241;43m.\u001b[39;49m\u001b[43m_query\u001b[49m\u001b[38;5;241;43m.\u001b[39;49m\u001b[43madd_q\u001b[49m\u001b[43m(\u001b[49m\u001b[43mQ\u001b[49m\u001b[43m(\u001b[49m\u001b[38;5;241;43m*\u001b[39;49m\u001b[43margs\u001b[49m\u001b[43m,\u001b[49m\u001b[43m \u001b[49m\u001b[38;5;241;43m*\u001b[39;49m\u001b[38;5;241;43m*\u001b[39;49m\u001b[43mkwargs\u001b[49m\u001b[43m)\u001b[49m\u001b[43m)\u001b[49m\n",
      "File \u001b[1;32m~\\anaconda3\\envs\\django42\\Lib\\site-packages\\django\\db\\models\\sql\\query.py:1546\u001b[0m, in \u001b[0;36mQuery.add_q\u001b[1;34m(self, q_object)\u001b[0m\n\u001b[0;32m   1537\u001b[0m \u001b[38;5;66;03m# For join promotion this case is doing an AND for the added q_object\u001b[39;00m\n\u001b[0;32m   1538\u001b[0m \u001b[38;5;66;03m# and existing conditions. So, any existing inner join forces the join\u001b[39;00m\n\u001b[0;32m   1539\u001b[0m \u001b[38;5;66;03m# type to remain inner. Existing outer joins can however be demoted.\u001b[39;00m\n\u001b[0;32m   1540\u001b[0m \u001b[38;5;66;03m# (Consider case where rel_a is LOUTER and rel_a__col=1 is added - if\u001b[39;00m\n\u001b[0;32m   1541\u001b[0m \u001b[38;5;66;03m# rel_a doesn't produce any rows, then the whole condition must fail.\u001b[39;00m\n\u001b[0;32m   1542\u001b[0m \u001b[38;5;66;03m# So, demotion is OK.\u001b[39;00m\n\u001b[0;32m   1543\u001b[0m existing_inner \u001b[38;5;241m=\u001b[39m {\n\u001b[0;32m   1544\u001b[0m     a \u001b[38;5;28;01mfor\u001b[39;00m a \u001b[38;5;129;01min\u001b[39;00m \u001b[38;5;28mself\u001b[39m\u001b[38;5;241m.\u001b[39malias_map \u001b[38;5;28;01mif\u001b[39;00m \u001b[38;5;28mself\u001b[39m\u001b[38;5;241m.\u001b[39malias_map[a]\u001b[38;5;241m.\u001b[39mjoin_type \u001b[38;5;241m==\u001b[39m INNER\n\u001b[0;32m   1545\u001b[0m }\n\u001b[1;32m-> 1546\u001b[0m clause, _ \u001b[38;5;241m=\u001b[39m \u001b[38;5;28;43mself\u001b[39;49m\u001b[38;5;241;43m.\u001b[39;49m\u001b[43m_add_q\u001b[49m\u001b[43m(\u001b[49m\u001b[43mq_object\u001b[49m\u001b[43m,\u001b[49m\u001b[43m \u001b[49m\u001b[38;5;28;43mself\u001b[39;49m\u001b[38;5;241;43m.\u001b[39;49m\u001b[43mused_aliases\u001b[49m\u001b[43m)\u001b[49m\n\u001b[0;32m   1547\u001b[0m \u001b[38;5;28;01mif\u001b[39;00m clause:\n\u001b[0;32m   1548\u001b[0m     \u001b[38;5;28mself\u001b[39m\u001b[38;5;241m.\u001b[39mwhere\u001b[38;5;241m.\u001b[39madd(clause, AND)\n",
      "File \u001b[1;32m~\\anaconda3\\envs\\django42\\Lib\\site-packages\\django\\db\\models\\sql\\query.py:1577\u001b[0m, in \u001b[0;36mQuery._add_q\u001b[1;34m(self, q_object, used_aliases, branch_negated, current_negated, allow_joins, split_subq, check_filterable, summarize)\u001b[0m\n\u001b[0;32m   1573\u001b[0m joinpromoter \u001b[38;5;241m=\u001b[39m JoinPromoter(\n\u001b[0;32m   1574\u001b[0m     q_object\u001b[38;5;241m.\u001b[39mconnector, \u001b[38;5;28mlen\u001b[39m(q_object\u001b[38;5;241m.\u001b[39mchildren), current_negated\n\u001b[0;32m   1575\u001b[0m )\n\u001b[0;32m   1576\u001b[0m \u001b[38;5;28;01mfor\u001b[39;00m child \u001b[38;5;129;01min\u001b[39;00m q_object\u001b[38;5;241m.\u001b[39mchildren:\n\u001b[1;32m-> 1577\u001b[0m     child_clause, needed_inner \u001b[38;5;241m=\u001b[39m \u001b[38;5;28;43mself\u001b[39;49m\u001b[38;5;241;43m.\u001b[39;49m\u001b[43mbuild_filter\u001b[49m\u001b[43m(\u001b[49m\n\u001b[0;32m   1578\u001b[0m \u001b[43m        \u001b[49m\u001b[43mchild\u001b[49m\u001b[43m,\u001b[49m\n\u001b[0;32m   1579\u001b[0m \u001b[43m        \u001b[49m\u001b[43mcan_reuse\u001b[49m\u001b[38;5;241;43m=\u001b[39;49m\u001b[43mused_aliases\u001b[49m\u001b[43m,\u001b[49m\n\u001b[0;32m   1580\u001b[0m \u001b[43m        \u001b[49m\u001b[43mbranch_negated\u001b[49m\u001b[38;5;241;43m=\u001b[39;49m\u001b[43mbranch_negated\u001b[49m\u001b[43m,\u001b[49m\n\u001b[0;32m   1581\u001b[0m \u001b[43m        \u001b[49m\u001b[43mcurrent_negated\u001b[49m\u001b[38;5;241;43m=\u001b[39;49m\u001b[43mcurrent_negated\u001b[49m\u001b[43m,\u001b[49m\n\u001b[0;32m   1582\u001b[0m \u001b[43m        \u001b[49m\u001b[43mallow_joins\u001b[49m\u001b[38;5;241;43m=\u001b[39;49m\u001b[43mallow_joins\u001b[49m\u001b[43m,\u001b[49m\n\u001b[0;32m   1583\u001b[0m \u001b[43m        \u001b[49m\u001b[43msplit_subq\u001b[49m\u001b[38;5;241;43m=\u001b[39;49m\u001b[43msplit_subq\u001b[49m\u001b[43m,\u001b[49m\n\u001b[0;32m   1584\u001b[0m \u001b[43m        \u001b[49m\u001b[43mcheck_filterable\u001b[49m\u001b[38;5;241;43m=\u001b[39;49m\u001b[43mcheck_filterable\u001b[49m\u001b[43m,\u001b[49m\n\u001b[0;32m   1585\u001b[0m \u001b[43m        \u001b[49m\u001b[43msummarize\u001b[49m\u001b[38;5;241;43m=\u001b[39;49m\u001b[43msummarize\u001b[49m\u001b[43m,\u001b[49m\n\u001b[0;32m   1586\u001b[0m \u001b[43m    \u001b[49m\u001b[43m)\u001b[49m\n\u001b[0;32m   1587\u001b[0m     joinpromoter\u001b[38;5;241m.\u001b[39madd_votes(needed_inner)\n\u001b[0;32m   1588\u001b[0m     \u001b[38;5;28;01mif\u001b[39;00m child_clause:\n",
      "File \u001b[1;32m~\\anaconda3\\envs\\django42\\Lib\\site-packages\\django\\db\\models\\sql\\query.py:1424\u001b[0m, in \u001b[0;36mQuery.build_filter\u001b[1;34m(self, filter_expr, branch_negated, current_negated, can_reuse, allow_joins, split_subq, reuse_with_filtered_relation, check_filterable, summarize)\u001b[0m\n\u001b[0;32m   1422\u001b[0m         condition \u001b[38;5;241m=\u001b[39m \u001b[38;5;28mself\u001b[39m\u001b[38;5;241m.\u001b[39mbuild_lookup([\u001b[38;5;124m\"\u001b[39m\u001b[38;5;124mexact\u001b[39m\u001b[38;5;124m\"\u001b[39m], condition, \u001b[38;5;28;01mTrue\u001b[39;00m)\n\u001b[0;32m   1423\u001b[0m     \u001b[38;5;28;01mreturn\u001b[39;00m WhereNode([condition], connector\u001b[38;5;241m=\u001b[39mAND), []\n\u001b[1;32m-> 1424\u001b[0m arg, value \u001b[38;5;241m=\u001b[39m filter_expr\n\u001b[0;32m   1425\u001b[0m \u001b[38;5;28;01mif\u001b[39;00m \u001b[38;5;129;01mnot\u001b[39;00m arg:\n\u001b[0;32m   1426\u001b[0m     \u001b[38;5;28;01mraise\u001b[39;00m FieldError(\u001b[38;5;124m\"\u001b[39m\u001b[38;5;124mCannot parse keyword query \u001b[39m\u001b[38;5;132;01m%r\u001b[39;00m\u001b[38;5;124m\"\u001b[39m \u001b[38;5;241m%\u001b[39m arg)\n",
      "\u001b[1;31mTypeError\u001b[0m: cannot unpack non-iterable bool object"
     ]
    }
   ],
   "source": [
    "Movie.objects.filter((F('year') / 10) == 198)"
   ]
  },
  {
   "cell_type": "markdown",
   "id": "57c5e977-2a81-48f9-ad87-5a0119f525a7",
   "metadata": {},
   "source": [
    "## Projections"
   ]
  },
  {
   "cell_type": "code",
   "execution_count": 57,
   "id": "e50b0ed5-ff7f-4d2e-a4ef-1cd22e3eb74b",
   "metadata": {},
   "outputs": [
    {
     "data": {
      "text/plain": [
       "<QuerySet [{'title': 'Exodus: Gods and Kings', 'year': 2014, 'duration': 150}, {'title': 'Lincoln', 'year': 2012, 'duration': 150}, {'title': 'Papillon', 'year': 1973, 'duration': 151}, {'title': 'The Departed', 'year': 2006, 'duration': 151}, {'title': 'The Dark Knight', 'year': 2008, 'duration': 152}, {'title': 'Empire of the Sun', 'year': 1987, 'duration': 153}, {'title': 'Inglourious Basterds', 'year': 2009, 'duration': 153}, {'title': 'Janice Meredith', 'year': 1924, 'duration': 153}, {'title': '1492: Conquest of Paradise', 'year': 1992, 'duration': 154}, {'title': 'Jackie Brown', 'year': 1997, 'duration': 154}, {'title': 'Pulp Fiction', 'year': 1994, 'duration': 154}, {'title': 'The Color Purple', 'year': 1985, 'duration': 154}, {'title': 'Amistad', 'year': 1997, 'duration': 155}, {'title': 'Gladiator', 'year': 2000, 'duration': 155}, {'title': 'Midnight in the Garden of Good and Evil', 'year': 1997, 'duration': 155}, {'title': 'New York, New York', 'year': 1977, 'duration': 155}, {'title': 'Ali', 'year': 2001, 'duration': 157}, {'title': 'American Gangster', 'year': 2007, 'duration': 157}, {'title': 'Hatari!', 'year': 1962, 'duration': 157}, {'title': 'Sam Raimi Early Shorts', 'year': 1985, 'duration': 157}, '...(remaining elements truncated)...']>"
      ]
     },
     "execution_count": 57,
     "metadata": {},
     "output_type": "execute_result"
    }
   ],
   "source": [
    "reset_queries()\n",
    "Movie.objects.filter(duration__gte=150) \\\n",
    "    .values('title', 'year', 'duration') \\\n",
    "    .order_by('duration', 'title')    "
   ]
  },
  {
   "cell_type": "code",
   "execution_count": 58,
   "id": "b31478b1-7e0c-4dc9-b327-10fcacc13f67",
   "metadata": {},
   "outputs": [
    {
     "data": {
      "text/plain": [
       "[{'sql': 'SELECT \"movie\".\"title\", \"movie\".\"release_year\", \"movie\".\"duration\" FROM \"movie\" WHERE \"movie\".\"duration\" >= 150 ORDER BY \"movie\".\"duration\" ASC, \"movie\".\"title\" ASC LIMIT 21',\n",
       "  'time': '0.016'}]"
      ]
     },
     "execution_count": 58,
     "metadata": {},
     "output_type": "execute_result"
    }
   ],
   "source": [
    "connection.queries"
   ]
  },
  {
   "cell_type": "code",
   "execution_count": 60,
   "id": "5ac66dfb-a6a5-41c8-a153-2bef79096734",
   "metadata": {},
   "outputs": [
    {
     "data": {
      "text/plain": [
       "<QuerySet [{'title': 'Janice Meredith', 'year': 1924, 'duration': 153, 'decade': 192}, {'title': 'The Three Musketeers', 'year': 1933, 'duration': 210, 'decade': 193}, {'title': 'The Shadow of the Eagle', 'year': 1932, 'duration': 218, 'decade': 193}, {'title': 'The Hurricane Express', 'year': 1932, 'duration': 227, 'decade': 193}, {'title': 'Hatari!', 'year': 1962, 'duration': 157, 'decade': 196}, {'title': 'Where Eagles Dare', 'year': 1968, 'duration': 158, 'decade': 196}, {'title': 'The Red Tent', 'year': 1969, 'duration': 158, 'decade': 196}, {'title': 'The Good, the Bad and the Ugly', 'year': 1966, 'duration': 161, 'decade': 196}, {'title': 'The Alamo', 'year': 1960, 'duration': 162, 'decade': 196}, {'title': 'Paint Your Wagon', 'year': 1969, 'duration': 164, 'decade': 196}, {'title': 'How the West Was Won', 'year': 1962, 'duration': 164, 'decade': 196}, {'title': \"In Harm's Way\", 'year': 1965, 'duration': 165, 'decade': 196}, {'title': 'The Great Escape', 'year': 1963, 'duration': 172, 'decade': 196}, {'title': 'The Longest Day', 'year': 1962, 'duration': 178, 'decade': 196}, {'title': 'The Sand Pebbles', 'year': 1966, 'duration': 182, 'decade': 196}, {'title': 'The Greatest Story Ever Told', 'year': 1965, 'duration': 260, 'decade': 196}, {'title': 'Papillon', 'year': 1973, 'duration': 151, 'decade': 197}, {'title': 'New York, New York', 'year': 1977, 'duration': 155, 'decade': 197}, {'title': 'The Towering Inferno', 'year': 1974, 'duration': 165, 'decade': 197}, {'title': 'A Bridge Too Far', 'year': 1977, 'duration': 175, 'decade': 197}, '...(remaining elements truncated)...']>"
      ]
     },
     "execution_count": 60,
     "metadata": {},
     "output_type": "execute_result"
    }
   ],
   "source": [
    "# name computed columns before projection\n",
    "reset_queries()\n",
    "Movie.objects.filter(duration__gte=150) \\\n",
    "    .annotate(decade=Floor(F('year') / 10)) \\\n",
    "    .values('title', 'year', 'decade', 'duration') \\\n",
    "    .order_by('decade', 'duration')"
   ]
  },
  {
   "cell_type": "code",
   "execution_count": 61,
   "id": "13547f57-7eaf-4df9-bed2-52de3875d445",
   "metadata": {},
   "outputs": [
    {
     "data": {
      "text/plain": [
       "[{'sql': 'SELECT \"movie\".\"title\", \"movie\".\"release_year\", \"movie\".\"duration\", FLOOR((\"movie\".\"release_year\" / 10)) AS \"decade\" FROM \"movie\" WHERE \"movie\".\"duration\" >= 150 ORDER BY 4 ASC, \"movie\".\"duration\" ASC LIMIT 21',\n",
       "  'time': '0.000'}]"
      ]
     },
     "execution_count": 61,
     "metadata": {},
     "output_type": "execute_result"
    }
   ],
   "source": [
    "connection.queries"
   ]
  },
  {
   "cell_type": "code",
   "execution_count": 62,
   "id": "db3a288e-45a4-4d50-837e-dce4c39bbeff",
   "metadata": {},
   "outputs": [
    {
     "ename": "ValueError",
     "evalue": "too many values to unpack (expected 2)",
     "output_type": "error",
     "traceback": [
      "\u001b[1;31m---------------------------------------------------------------------\u001b[0m",
      "\u001b[1;31mValueError\u001b[0m                          Traceback (most recent call last)",
      "Cell \u001b[1;32mIn[62], line 4\u001b[0m\n\u001b[0;32m      1\u001b[0m \u001b[43mMovie\u001b[49m\u001b[38;5;241;43m.\u001b[39;49m\u001b[43mobjects\u001b[49m\u001b[38;5;241;43m.\u001b[39;49m\u001b[43mfilter\u001b[49m\u001b[43m(\u001b[49m\u001b[43mduration__gte\u001b[49m\u001b[38;5;241;43m=\u001b[39;49m\u001b[38;5;241;43m150\u001b[39;49m\u001b[43m)\u001b[49m\u001b[43m \u001b[49m\u001b[43m\\\u001b[49m\n\u001b[0;32m      2\u001b[0m \u001b[43m    \u001b[49m\u001b[38;5;241;43m.\u001b[39;49m\u001b[43mannotate\u001b[49m\u001b[43m(\u001b[49m\u001b[43mdecade\u001b[49m\u001b[38;5;241;43m=\u001b[39;49m\u001b[43mFloor\u001b[49m\u001b[43m(\u001b[49m\u001b[43mF\u001b[49m\u001b[43m(\u001b[49m\u001b[38;5;124;43m'\u001b[39;49m\u001b[38;5;124;43myear\u001b[39;49m\u001b[38;5;124;43m'\u001b[39;49m\u001b[43m)\u001b[49m\u001b[43m \u001b[49m\u001b[38;5;241;43m/\u001b[39;49m\u001b[43m \u001b[49m\u001b[38;5;241;43m10\u001b[39;49m\u001b[43m)\u001b[49m\u001b[43m)\u001b[49m\u001b[43m \u001b[49m\u001b[43m\\\u001b[49m\n\u001b[0;32m      3\u001b[0m \u001b[43m    \u001b[49m\u001b[38;5;241;43m.\u001b[39;49m\u001b[43mfilter\u001b[49m\u001b[43m(\u001b[49m\u001b[43mdecade\u001b[49m\u001b[38;5;241;43m=\u001b[39;49m\u001b[38;5;241;43m197\u001b[39;49m\u001b[43m)\u001b[49m\u001b[43m \u001b[49m\u001b[43m\\\u001b[49m\n\u001b[1;32m----> 4\u001b[0m \u001b[43m    \u001b[49m\u001b[38;5;241;43m.\u001b[39;49m\u001b[43mfilter\u001b[49m\u001b[43m(\u001b[49m\u001b[38;5;124;43m'\u001b[39;49m\u001b[38;5;124;43mtitle\u001b[39;49m\u001b[38;5;124;43m'\u001b[39;49m\u001b[43m,\u001b[49m\u001b[43m \u001b[49m\u001b[38;5;124;43m'\u001b[39;49m\u001b[38;5;124;43myear\u001b[39;49m\u001b[38;5;124;43m'\u001b[39;49m\u001b[43m,\u001b[49m\u001b[43m \u001b[49m\u001b[38;5;124;43m'\u001b[39;49m\u001b[38;5;124;43mdecade\u001b[39;49m\u001b[38;5;124;43m'\u001b[39;49m\u001b[43m,\u001b[49m\u001b[43m \u001b[49m\u001b[38;5;124;43m'\u001b[39;49m\u001b[38;5;124;43mduration\u001b[39;49m\u001b[38;5;124;43m'\u001b[39;49m\u001b[43m)\u001b[49m \\\n\u001b[0;32m      5\u001b[0m     \u001b[38;5;241m.\u001b[39morder_by(\u001b[38;5;124m'\u001b[39m\u001b[38;5;124mduration\u001b[39m\u001b[38;5;124m'\u001b[39m)\n",
      "File \u001b[1;32m~\\anaconda3\\envs\\django42\\Lib\\site-packages\\django\\db\\models\\query.py:1436\u001b[0m, in \u001b[0;36mQuerySet.filter\u001b[1;34m(self, *args, **kwargs)\u001b[0m\n\u001b[0;32m   1431\u001b[0m \u001b[38;5;250m\u001b[39m\u001b[38;5;124;03m\"\"\"\u001b[39;00m\n\u001b[0;32m   1432\u001b[0m \u001b[38;5;124;03mReturn a new QuerySet instance with the args ANDed to the existing\u001b[39;00m\n\u001b[0;32m   1433\u001b[0m \u001b[38;5;124;03mset.\u001b[39;00m\n\u001b[0;32m   1434\u001b[0m \u001b[38;5;124;03m\"\"\"\u001b[39;00m\n\u001b[0;32m   1435\u001b[0m \u001b[38;5;28mself\u001b[39m\u001b[38;5;241m.\u001b[39m_not_support_combined_queries(\u001b[38;5;124m\"\u001b[39m\u001b[38;5;124mfilter\u001b[39m\u001b[38;5;124m\"\u001b[39m)\n\u001b[1;32m-> 1436\u001b[0m \u001b[38;5;28;01mreturn\u001b[39;00m \u001b[38;5;28;43mself\u001b[39;49m\u001b[38;5;241;43m.\u001b[39;49m\u001b[43m_filter_or_exclude\u001b[49m\u001b[43m(\u001b[49m\u001b[38;5;28;43;01mFalse\u001b[39;49;00m\u001b[43m,\u001b[49m\u001b[43m \u001b[49m\u001b[43margs\u001b[49m\u001b[43m,\u001b[49m\u001b[43m \u001b[49m\u001b[43mkwargs\u001b[49m\u001b[43m)\u001b[49m\n",
      "File \u001b[1;32m~\\anaconda3\\envs\\django42\\Lib\\site-packages\\django\\db\\models\\query.py:1454\u001b[0m, in \u001b[0;36mQuerySet._filter_or_exclude\u001b[1;34m(self, negate, args, kwargs)\u001b[0m\n\u001b[0;32m   1452\u001b[0m     clone\u001b[38;5;241m.\u001b[39m_deferred_filter \u001b[38;5;241m=\u001b[39m negate, args, kwargs\n\u001b[0;32m   1453\u001b[0m \u001b[38;5;28;01melse\u001b[39;00m:\n\u001b[1;32m-> 1454\u001b[0m     \u001b[43mclone\u001b[49m\u001b[38;5;241;43m.\u001b[39;49m\u001b[43m_filter_or_exclude_inplace\u001b[49m\u001b[43m(\u001b[49m\u001b[43mnegate\u001b[49m\u001b[43m,\u001b[49m\u001b[43m \u001b[49m\u001b[43margs\u001b[49m\u001b[43m,\u001b[49m\u001b[43m \u001b[49m\u001b[43mkwargs\u001b[49m\u001b[43m)\u001b[49m\n\u001b[0;32m   1455\u001b[0m \u001b[38;5;28;01mreturn\u001b[39;00m clone\n",
      "File \u001b[1;32m~\\anaconda3\\envs\\django42\\Lib\\site-packages\\django\\db\\models\\query.py:1461\u001b[0m, in \u001b[0;36mQuerySet._filter_or_exclude_inplace\u001b[1;34m(self, negate, args, kwargs)\u001b[0m\n\u001b[0;32m   1459\u001b[0m     \u001b[38;5;28mself\u001b[39m\u001b[38;5;241m.\u001b[39m_query\u001b[38;5;241m.\u001b[39madd_q(\u001b[38;5;241m~\u001b[39mQ(\u001b[38;5;241m*\u001b[39margs, \u001b[38;5;241m*\u001b[39m\u001b[38;5;241m*\u001b[39mkwargs))\n\u001b[0;32m   1460\u001b[0m \u001b[38;5;28;01melse\u001b[39;00m:\n\u001b[1;32m-> 1461\u001b[0m     \u001b[38;5;28;43mself\u001b[39;49m\u001b[38;5;241;43m.\u001b[39;49m\u001b[43m_query\u001b[49m\u001b[38;5;241;43m.\u001b[39;49m\u001b[43madd_q\u001b[49m\u001b[43m(\u001b[49m\u001b[43mQ\u001b[49m\u001b[43m(\u001b[49m\u001b[38;5;241;43m*\u001b[39;49m\u001b[43margs\u001b[49m\u001b[43m,\u001b[49m\u001b[43m \u001b[49m\u001b[38;5;241;43m*\u001b[39;49m\u001b[38;5;241;43m*\u001b[39;49m\u001b[43mkwargs\u001b[49m\u001b[43m)\u001b[49m\u001b[43m)\u001b[49m\n",
      "File \u001b[1;32m~\\anaconda3\\envs\\django42\\Lib\\site-packages\\django\\db\\models\\sql\\query.py:1546\u001b[0m, in \u001b[0;36mQuery.add_q\u001b[1;34m(self, q_object)\u001b[0m\n\u001b[0;32m   1537\u001b[0m \u001b[38;5;66;03m# For join promotion this case is doing an AND for the added q_object\u001b[39;00m\n\u001b[0;32m   1538\u001b[0m \u001b[38;5;66;03m# and existing conditions. So, any existing inner join forces the join\u001b[39;00m\n\u001b[0;32m   1539\u001b[0m \u001b[38;5;66;03m# type to remain inner. Existing outer joins can however be demoted.\u001b[39;00m\n\u001b[0;32m   1540\u001b[0m \u001b[38;5;66;03m# (Consider case where rel_a is LOUTER and rel_a__col=1 is added - if\u001b[39;00m\n\u001b[0;32m   1541\u001b[0m \u001b[38;5;66;03m# rel_a doesn't produce any rows, then the whole condition must fail.\u001b[39;00m\n\u001b[0;32m   1542\u001b[0m \u001b[38;5;66;03m# So, demotion is OK.\u001b[39;00m\n\u001b[0;32m   1543\u001b[0m existing_inner \u001b[38;5;241m=\u001b[39m {\n\u001b[0;32m   1544\u001b[0m     a \u001b[38;5;28;01mfor\u001b[39;00m a \u001b[38;5;129;01min\u001b[39;00m \u001b[38;5;28mself\u001b[39m\u001b[38;5;241m.\u001b[39malias_map \u001b[38;5;28;01mif\u001b[39;00m \u001b[38;5;28mself\u001b[39m\u001b[38;5;241m.\u001b[39malias_map[a]\u001b[38;5;241m.\u001b[39mjoin_type \u001b[38;5;241m==\u001b[39m INNER\n\u001b[0;32m   1545\u001b[0m }\n\u001b[1;32m-> 1546\u001b[0m clause, _ \u001b[38;5;241m=\u001b[39m \u001b[38;5;28;43mself\u001b[39;49m\u001b[38;5;241;43m.\u001b[39;49m\u001b[43m_add_q\u001b[49m\u001b[43m(\u001b[49m\u001b[43mq_object\u001b[49m\u001b[43m,\u001b[49m\u001b[43m \u001b[49m\u001b[38;5;28;43mself\u001b[39;49m\u001b[38;5;241;43m.\u001b[39;49m\u001b[43mused_aliases\u001b[49m\u001b[43m)\u001b[49m\n\u001b[0;32m   1547\u001b[0m \u001b[38;5;28;01mif\u001b[39;00m clause:\n\u001b[0;32m   1548\u001b[0m     \u001b[38;5;28mself\u001b[39m\u001b[38;5;241m.\u001b[39mwhere\u001b[38;5;241m.\u001b[39madd(clause, AND)\n",
      "File \u001b[1;32m~\\anaconda3\\envs\\django42\\Lib\\site-packages\\django\\db\\models\\sql\\query.py:1577\u001b[0m, in \u001b[0;36mQuery._add_q\u001b[1;34m(self, q_object, used_aliases, branch_negated, current_negated, allow_joins, split_subq, check_filterable, summarize)\u001b[0m\n\u001b[0;32m   1573\u001b[0m joinpromoter \u001b[38;5;241m=\u001b[39m JoinPromoter(\n\u001b[0;32m   1574\u001b[0m     q_object\u001b[38;5;241m.\u001b[39mconnector, \u001b[38;5;28mlen\u001b[39m(q_object\u001b[38;5;241m.\u001b[39mchildren), current_negated\n\u001b[0;32m   1575\u001b[0m )\n\u001b[0;32m   1576\u001b[0m \u001b[38;5;28;01mfor\u001b[39;00m child \u001b[38;5;129;01min\u001b[39;00m q_object\u001b[38;5;241m.\u001b[39mchildren:\n\u001b[1;32m-> 1577\u001b[0m     child_clause, needed_inner \u001b[38;5;241m=\u001b[39m \u001b[38;5;28;43mself\u001b[39;49m\u001b[38;5;241;43m.\u001b[39;49m\u001b[43mbuild_filter\u001b[49m\u001b[43m(\u001b[49m\n\u001b[0;32m   1578\u001b[0m \u001b[43m        \u001b[49m\u001b[43mchild\u001b[49m\u001b[43m,\u001b[49m\n\u001b[0;32m   1579\u001b[0m \u001b[43m        \u001b[49m\u001b[43mcan_reuse\u001b[49m\u001b[38;5;241;43m=\u001b[39;49m\u001b[43mused_aliases\u001b[49m\u001b[43m,\u001b[49m\n\u001b[0;32m   1580\u001b[0m \u001b[43m        \u001b[49m\u001b[43mbranch_negated\u001b[49m\u001b[38;5;241;43m=\u001b[39;49m\u001b[43mbranch_negated\u001b[49m\u001b[43m,\u001b[49m\n\u001b[0;32m   1581\u001b[0m \u001b[43m        \u001b[49m\u001b[43mcurrent_negated\u001b[49m\u001b[38;5;241;43m=\u001b[39;49m\u001b[43mcurrent_negated\u001b[49m\u001b[43m,\u001b[49m\n\u001b[0;32m   1582\u001b[0m \u001b[43m        \u001b[49m\u001b[43mallow_joins\u001b[49m\u001b[38;5;241;43m=\u001b[39;49m\u001b[43mallow_joins\u001b[49m\u001b[43m,\u001b[49m\n\u001b[0;32m   1583\u001b[0m \u001b[43m        \u001b[49m\u001b[43msplit_subq\u001b[49m\u001b[38;5;241;43m=\u001b[39;49m\u001b[43msplit_subq\u001b[49m\u001b[43m,\u001b[49m\n\u001b[0;32m   1584\u001b[0m \u001b[43m        \u001b[49m\u001b[43mcheck_filterable\u001b[49m\u001b[38;5;241;43m=\u001b[39;49m\u001b[43mcheck_filterable\u001b[49m\u001b[43m,\u001b[49m\n\u001b[0;32m   1585\u001b[0m \u001b[43m        \u001b[49m\u001b[43msummarize\u001b[49m\u001b[38;5;241;43m=\u001b[39;49m\u001b[43msummarize\u001b[49m\u001b[43m,\u001b[49m\n\u001b[0;32m   1586\u001b[0m \u001b[43m    \u001b[49m\u001b[43m)\u001b[49m\n\u001b[0;32m   1587\u001b[0m     joinpromoter\u001b[38;5;241m.\u001b[39madd_votes(needed_inner)\n\u001b[0;32m   1588\u001b[0m     \u001b[38;5;28;01mif\u001b[39;00m child_clause:\n",
      "File \u001b[1;32m~\\anaconda3\\envs\\django42\\Lib\\site-packages\\django\\db\\models\\sql\\query.py:1424\u001b[0m, in \u001b[0;36mQuery.build_filter\u001b[1;34m(self, filter_expr, branch_negated, current_negated, can_reuse, allow_joins, split_subq, reuse_with_filtered_relation, check_filterable, summarize)\u001b[0m\n\u001b[0;32m   1422\u001b[0m         condition \u001b[38;5;241m=\u001b[39m \u001b[38;5;28mself\u001b[39m\u001b[38;5;241m.\u001b[39mbuild_lookup([\u001b[38;5;124m\"\u001b[39m\u001b[38;5;124mexact\u001b[39m\u001b[38;5;124m\"\u001b[39m], condition, \u001b[38;5;28;01mTrue\u001b[39;00m)\n\u001b[0;32m   1423\u001b[0m     \u001b[38;5;28;01mreturn\u001b[39;00m WhereNode([condition], connector\u001b[38;5;241m=\u001b[39mAND), []\n\u001b[1;32m-> 1424\u001b[0m arg, value \u001b[38;5;241m=\u001b[39m filter_expr\n\u001b[0;32m   1425\u001b[0m \u001b[38;5;28;01mif\u001b[39;00m \u001b[38;5;129;01mnot\u001b[39;00m arg:\n\u001b[0;32m   1426\u001b[0m     \u001b[38;5;28;01mraise\u001b[39;00m FieldError(\u001b[38;5;124m\"\u001b[39m\u001b[38;5;124mCannot parse keyword query \u001b[39m\u001b[38;5;132;01m%r\u001b[39;00m\u001b[38;5;124m\"\u001b[39m \u001b[38;5;241m%\u001b[39m arg)\n",
      "\u001b[1;31mValueError\u001b[0m: too many values to unpack (expected 2)"
     ]
    }
   ],
   "source": [
    "# TODO\n",
    "Movie.objects.filter(duration__gte=150) \\\n",
    "    .annotate(decade=Floor(F('year') / 10)) \\\n",
    "    .filter(decade=197) \\\n",
    "    .filter('title', 'year', 'decade', 'duration') \\\n",
    "    .order_by('duration')"
   ]
  },
  {
   "cell_type": "markdown",
   "id": "9181a4d4-6edf-4cea-95a0-85fe2524f717",
   "metadata": {},
   "source": [
    "## Agregate Functions\n",
    "- stats (count, min duration, max duration, ...) by year\n",
    "- stats (count, total duration) by director, keep directors with at least 10 movies"
   ]
  },
  {
   "cell_type": "code",
   "execution_count": 69,
   "id": "0dd5cda4-7083-463b-a178-7f5bc7b759bc",
   "metadata": {},
   "outputs": [
    {
     "data": {
      "text/plain": [
       "<QuerySet [{'year': 1980, 'movie_count': 11, 'min_duration': 94, 'max_duration': 133}, {'year': 1981, 'movie_count': 10, 'min_duration': 85, 'max_duration': 127}, {'year': 1982, 'movie_count': 12, 'min_duration': 86, 'max_duration': 136}, {'year': 1983, 'movie_count': 8, 'min_duration': 93, 'max_duration': 170}, {'year': 1984, 'movie_count': 16, 'min_duration': 48, 'max_duration': 118}, {'year': 1985, 'movie_count': 19, 'min_duration': 83, 'max_duration': 157}, {'year': 1986, 'movie_count': 17, 'min_duration': 85, 'max_duration': 137}, {'year': 1987, 'movie_count': 15, 'min_duration': 84, 'max_duration': 153}, {'year': 1988, 'movie_count': 17, 'min_duration': 85, 'max_duration': 164}, {'year': 1989, 'movie_count': 22, 'min_duration': 83, 'max_duration': 171}]>"
      ]
     },
     "execution_count": 69,
     "metadata": {},
     "output_type": "execute_result"
    }
   ],
   "source": [
    "reset_queries()\n",
    "result = Movie.objects.filter(year__range=(1980, 1989)) \\\n",
    "    .values('year') \\\n",
    "    .annotate(\n",
    "        movie_count=Count('id'), \n",
    "        min_duration=Min('duration'),\n",
    "        max_duration=Max('duration'),\n",
    "    ) \\\n",
    "    .order_by('year')\n",
    "result    "
   ]
  },
  {
   "cell_type": "code",
   "execution_count": 68,
   "id": "0e7fe907-e16d-4c9f-9711-37fcaf238a6f",
   "metadata": {},
   "outputs": [
    {
     "data": {
      "text/plain": [
       "[{'sql': 'SELECT \"movie\".\"release_year\", COUNT(\"movie\".\"id\") AS \"movie_count\", MIN(\"movie\".\"duration\") AS \"min_duration\", MAX(\"movie\".\"duration\") AS \"max_duration\" FROM \"movie\" WHERE \"movie\".\"release_year\" BETWEEN 1980 AND 1989 GROUP BY \"movie\".\"release_year\" ORDER BY \"movie\".\"release_year\" ASC LIMIT 21',\n",
       "  'time': '0.016'}]"
      ]
     },
     "execution_count": 68,
     "metadata": {},
     "output_type": "execute_result"
    }
   ],
   "source": [
    "connection.queries"
   ]
  },
  {
   "cell_type": "code",
   "execution_count": 82,
   "id": "b56ff644-4452-405a-ac92-6c3bd7cba837",
   "metadata": {},
   "outputs": [
    {
     "data": {
      "text/plain": [
       "<QuerySet [{'director': 33, 'movie_count': 55, 'total_duration': 5430}, {'director': 142, 'movie_count': 38, 'total_duration': 4768}, {'director': 229, 'movie_count': 33, 'total_duration': 4421}, {'director': 247, 'movie_count': 32, 'total_duration': 3491}, {'director': 361, 'movie_count': 30, 'total_duration': 3138}, {'director': 217, 'movie_count': 25, 'total_duration': 3437}, {'director': 631, 'movie_count': 25, 'total_duration': 3218}, {'director': 406, 'movie_count': 20, 'total_duration': 2160}, {'director': 965, 'movie_count': 16, 'total_duration': 1924}, {'director': 600, 'movie_count': 15, 'total_duration': 1592}, {'director': 250445, 'movie_count': 14, 'total_duration': 710}, {'director': 1392, 'movie_count': 13, 'total_duration': 1855}, {'director': 102908, 'movie_count': 13, 'total_duration': 708}, {'director': 233, 'movie_count': 12, 'total_duration': 1766}, {'director': 634240, 'movie_count': 10, 'total_duration': 1309}, {'director': 1054, 'movie_count': 10, 'total_duration': 1073}, {'director': 792450, 'movie_count': 9, 'total_duration': 556}, {'director': 116, 'movie_count': 8, 'total_duration': 1143}, {'director': 230, 'movie_count': 8, 'total_duration': 806}, {'director': 1053, 'movie_count': 8, 'total_duration': 881}, '...(remaining elements truncated)...']>"
      ]
     },
     "execution_count": 82,
     "metadata": {},
     "output_type": "execute_result"
    }
   ],
   "source": [
    "reset_queries()\n",
    "Movie.objects.values('director') \\\n",
    "    .annotate(movie_count=Count('id'), total_duration=Sum('duration')) \\\n",
    "    .order_by('-movie_count')"
   ]
  },
  {
   "cell_type": "code",
   "execution_count": 83,
   "id": "f53257c7-ecce-4dff-b20b-2c8788f743ba",
   "metadata": {},
   "outputs": [
    {
     "data": {
      "text/plain": [
       "[{'sql': 'SELECT \"movie\".\"director_id\", COUNT(\"movie\".\"id\") AS \"movie_count\", SUM(\"movie\".\"duration\") AS \"total_duration\" FROM \"movie\" GROUP BY \"movie\".\"director_id\" ORDER BY 2 DESC LIMIT 21',\n",
       "  'time': '0.000'}]"
      ]
     },
     "execution_count": 83,
     "metadata": {},
     "output_type": "execute_result"
    }
   ],
   "source": [
    "connection.queries"
   ]
  },
  {
   "cell_type": "code",
   "execution_count": 92,
   "id": "d20ece97-e359-4552-aedb-db1c4b28729a",
   "metadata": {},
   "outputs": [
    {
     "data": {
      "text/plain": [
       "<QuerySet [{'director_id': 33, 'director__name': 'Alfred Hitchcock', 'movie_count': 55, 'total_duration': 5430}, {'director_id': 142, 'director__name': 'Clint Eastwood', 'movie_count': 38, 'total_duration': 4768}, {'director_id': 229, 'director__name': 'Steven Spielberg', 'movie_count': 33, 'total_duration': 4421}, {'director_id': 247, 'director__name': 'John Woo', 'movie_count': 32, 'total_duration': 3491}, {'director_id': 361, 'director__name': 'Brian De Palma', 'movie_count': 30, 'total_duration': 3138}, {'director_id': 631, 'director__name': 'Ridley Scott', 'movie_count': 25, 'total_duration': 3218}, {'director_id': 217, 'director__name': 'Martin Scorsese', 'movie_count': 25, 'total_duration': 3437}, {'director_id': 406, 'director__name': 'John Ford', 'movie_count': 20, 'total_duration': 2160}, {'director_id': 965, 'director__name': 'Danny Boyle', 'movie_count': 16, 'total_duration': 1924}, {'director_id': 600, 'director__name': 'Sam Raimi', 'movie_count': 15, 'total_duration': 1592}, {'director_id': 250445, 'director__name': 'Walter Edwards', 'movie_count': 14, 'total_duration': 710}, {'director_id': 102908, 'director__name': 'Robert N. Bradbury', 'movie_count': 13, 'total_duration': 708}, {'director_id': 1392, 'director__name': 'Peter Jackson', 'movie_count': 13, 'total_duration': 1855}, {'director_id': 233, 'director__name': 'Quentin Tarantino', 'movie_count': 12, 'total_duration': 1766}, {'director_id': 1054, 'director__name': 'Joel Coen', 'movie_count': 10, 'total_duration': 1073}, {'director_id': 634240, 'director__name': 'Christopher Nolan', 'movie_count': 10, 'total_duration': 1309}]>"
      ]
     },
     "execution_count": 92,
     "metadata": {},
     "output_type": "execute_result"
    }
   ],
   "source": [
    "# having\n",
    "reset_queries()\n",
    "movie_count_threshold=10\n",
    "Movie.objects.values('director_id', 'director__name') \\\n",
    "    .annotate(movie_count=Count('id'), total_duration=Sum('duration')) \\\n",
    "    .filter(movie_count__gte=movie_count_threshold) \\\n",
    "    .order_by('-movie_count')"
   ]
  },
  {
   "cell_type": "code",
   "execution_count": 93,
   "id": "13401c4f-18f8-46c2-9f6b-11566da798a5",
   "metadata": {},
   "outputs": [
    {
     "data": {
      "text/plain": [
       "[{'sql': 'SELECT \"movie\".\"director_id\", \"person\".\"name\", COUNT(\"movie\".\"id\") AS \"movie_count\", SUM(\"movie\".\"duration\") AS \"total_duration\" FROM \"movie\" LEFT OUTER JOIN \"person\" ON (\"movie\".\"director_id\" = \"person\".\"id\") GROUP BY \"movie\".\"director_id\", \"person\".\"name\" HAVING COUNT(\"movie\".\"id\") >= 10 ORDER BY 3 DESC LIMIT 21',\n",
       "  'time': '0.000'}]"
      ]
     },
     "execution_count": 93,
     "metadata": {},
     "output_type": "execute_result"
    }
   ],
   "source": [
    "connection.queries"
   ]
  },
  {
   "cell_type": "code",
   "execution_count": 95,
   "id": "fca59605-05c8-4de8-8cac-7daa0482a30d",
   "metadata": {
    "collapsed": true,
    "jupyter": {
     "outputs_hidden": true
    }
   },
   "outputs": [
    {
     "data": {
      "text/plain": [
       "<QuerySet [{'director_id': 142, 'director__name': 'Clint Eastwood', 'movie_count': 38, 'total_duration': 4768}, {'director_id': 229, 'director__name': 'Steven Spielberg', 'movie_count': 33, 'total_duration': 4421}, {'director_id': 247, 'director__name': 'John Woo', 'movie_count': 32, 'total_duration': 3491}, {'director_id': 361, 'director__name': 'Brian De Palma', 'movie_count': 30, 'total_duration': 3138}, {'director_id': 631, 'director__name': 'Ridley Scott', 'movie_count': 25, 'total_duration': 3218}, {'director_id': 217, 'director__name': 'Martin Scorsese', 'movie_count': 25, 'total_duration': 3437}, {'director_id': 33, 'director__name': 'Alfred Hitchcock', 'movie_count': 18, 'total_duration': 2082}, {'director_id': 965, 'director__name': 'Danny Boyle', 'movie_count': 16, 'total_duration': 1924}, {'director_id': 600, 'director__name': 'Sam Raimi', 'movie_count': 15, 'total_duration': 1592}, {'director_id': 1392, 'director__name': 'Peter Jackson', 'movie_count': 13, 'total_duration': 1855}, {'director_id': 233, 'director__name': 'Quentin Tarantino', 'movie_count': 12, 'total_duration': 1766}, {'director_id': 1054, 'director__name': 'Joel Coen', 'movie_count': 10, 'total_duration': 1073}, {'director_id': 634240, 'director__name': 'Christopher Nolan', 'movie_count': 10, 'total_duration': 1309}]>"
      ]
     },
     "execution_count": 95,
     "metadata": {},
     "output_type": "execute_result"
    }
   ],
   "source": [
    "# where + having\n",
    "reset_queries()\n",
    "year_threshold=1950\n",
    "movie_count_threshold=10\n",
    "Movie.objects \\\n",
    "    .filter(year__gte=year_threshold) \\\n",
    "    .values('director_id', 'director__name') \\\n",
    "    .annotate(movie_count=Count('id'), total_duration=Sum('duration')) \\\n",
    "    .filter(movie_count__gte=movie_count_threshold) \\\n",
    "    .order_by('-movie_count')"
   ]
  },
  {
   "cell_type": "code",
   "execution_count": 96,
   "id": "aeb1485c-4f3c-4577-be5f-13149cdec070",
   "metadata": {},
   "outputs": [
    {
     "data": {
      "text/plain": [
       "[{'sql': 'SELECT \"movie\".\"director_id\", \"person\".\"name\", COUNT(\"movie\".\"id\") AS \"movie_count\", SUM(\"movie\".\"duration\") AS \"total_duration\" FROM \"movie\" LEFT OUTER JOIN \"person\" ON (\"movie\".\"director_id\" = \"person\".\"id\") WHERE \"movie\".\"release_year\" >= 1950 GROUP BY \"movie\".\"director_id\", \"person\".\"name\" HAVING COUNT(\"movie\".\"id\") >= 10 ORDER BY 3 DESC LIMIT 21',\n",
       "  'time': '0.000'}]"
      ]
     },
     "execution_count": 96,
     "metadata": {},
     "output_type": "execute_result"
    }
   ],
   "source": [
    "connection.queries"
   ]
  },
  {
   "cell_type": "markdown",
   "id": "b5d801ad-2236-4749-a9a4-c3571daa4985",
   "metadata": {},
   "source": [
    "## Association navigation"
   ]
  },
  {
   "cell_type": "code",
   "execution_count": 98,
   "id": "b5a1f942-74b2-4a1d-a8a7-98b78e748862",
   "metadata": {},
   "outputs": [
    {
     "data": {
      "text/plain": [
       "Movie<id=120338, title=Titanic, year=1997>"
      ]
     },
     "execution_count": 98,
     "metadata": {},
     "output_type": "execute_result"
    }
   ],
   "source": [
    "reset_queries()\n",
    "m = Movie.objects.get(title='Titanic')\n",
    "m"
   ]
  },
  {
   "cell_type": "code",
   "execution_count": 99,
   "id": "6ffbfa1b-57ab-427f-a879-3e12ebe112df",
   "metadata": {},
   "outputs": [
    {
     "data": {
      "text/plain": [
       "[{'sql': 'SELECT \"movie\".\"id\", \"movie\".\"title\", \"movie\".\"release_year\", \"movie\".\"duration\", \"movie\".\"pg\", \"movie\".\"synopsis\", \"movie\".\"poster_uri\", \"movie\".\"color\", \"movie\".\"director_id\" FROM \"movie\" WHERE \"movie\".\"title\" = \\'Titanic\\' LIMIT 21',\n",
       "  'time': '0.000'}]"
      ]
     },
     "execution_count": 99,
     "metadata": {},
     "output_type": "execute_result"
    }
   ],
   "source": [
    "connection.queries"
   ]
  },
  {
   "cell_type": "code",
   "execution_count": 106,
   "id": "c07034c0-f5a1-47dc-80ab-8aea19ce824c",
   "metadata": {},
   "outputs": [
    {
     "data": {
      "text/plain": [
       "Person<id=116, name=James Cameron>"
      ]
     },
     "execution_count": 106,
     "metadata": {},
     "output_type": "execute_result"
    }
   ],
   "source": [
    "james = m.director\n",
    "james"
   ]
  },
  {
   "cell_type": "code",
   "execution_count": 101,
   "id": "9b33337e-d905-4656-b5c3-f524e4700581",
   "metadata": {},
   "outputs": [
    {
     "data": {
      "text/plain": [
       "[{'sql': 'SELECT \"movie\".\"id\", \"movie\".\"title\", \"movie\".\"release_year\", \"movie\".\"duration\", \"movie\".\"pg\", \"movie\".\"synopsis\", \"movie\".\"poster_uri\", \"movie\".\"color\", \"movie\".\"director_id\" FROM \"movie\" WHERE \"movie\".\"title\" = \\'Titanic\\' LIMIT 21',\n",
       "  'time': '0.000'},\n",
       " {'sql': 'SELECT \"person\".\"id\", \"person\".\"name\", \"person\".\"birthdate\" FROM \"person\" WHERE \"person\".\"id\" = 116 LIMIT 21',\n",
       "  'time': '0.000'}]"
      ]
     },
     "execution_count": 101,
     "metadata": {},
     "output_type": "execute_result"
    }
   ],
   "source": [
    "connection.queries"
   ]
  },
  {
   "cell_type": "code",
   "execution_count": 103,
   "id": "667f1f98-2884-42c4-ab85-93c85bae6955",
   "metadata": {
    "collapsed": true,
    "jupyter": {
     "outputs_hidden": true
    }
   },
   "outputs": [
    {
     "data": {
      "text/plain": [
       "<QuerySet [{'id': 116, 'name': 'James Cameron', 'birthdate': datetime.date(1954, 8, 16)}, {'id': 138, 'name': 'Leonardo DiCaprio', 'birthdate': datetime.date(1974, 11, 11)}, {'id': 200, 'name': 'Bill Paxton', 'birthdate': datetime.date(1955, 5, 17)}, {'id': 701, 'name': 'Kate Winslet', 'birthdate': datetime.date(1975, 10, 5)}, {'id': 708, 'name': 'Billy Zane', 'birthdate': datetime.date(1966, 2, 24)}, {'id': 751, 'name': 'Suzy Amis', 'birthdate': datetime.date(1962, 1, 5)}, {'id': 870, 'name': 'Kathy Bates', 'birthdate': datetime.date(1948, 6, 28)}, {'id': 967, 'name': 'Eric Braeden', 'birthdate': datetime.date(1941, 4, 3)}, {'id': 1255, 'name': 'Victor Garber', 'birthdate': datetime.date(1949, 3, 16)}, {'id': 1280, 'name': 'Jenette Goldstein', 'birthdate': datetime.date(1960, 2, 4)}, {'id': 1572, 'name': 'Danny Nucci', 'birthdate': datetime.date(1968, 9, 15)}, {'id': 1784, 'name': 'Gloria Stuart', 'birthdate': datetime.date(1910, 7, 4)}, {'id': 1831, 'name': 'David Warner', 'birthdate': datetime.date(1941, 7, 29)}, {'id': 4920, 'name': 'Frances Fisher', 'birthdate': datetime.date(1952, 5, 11)}, {'id': 6508, 'name': 'Tony Kenny', 'birthdate': None}, {'id': 6976, 'name': 'Marc Cass', 'birthdate': None}, {'id': 8656, 'name': 'Lewis Abernathy', 'birthdate': None}, {'id': 12079, 'name': 'Seth Adkins', 'birthdate': datetime.date(1989, 10, 30)}, {'id': 27424, 'name': 'Scott Anderson', 'birthdate': None}, {'id': 27735, 'name': 'Kris Andersson', 'birthdate': datetime.date(1969, 11, 29)}, '...(remaining elements truncated)...']>"
      ]
     },
     "execution_count": 103,
     "metadata": {},
     "output_type": "execute_result"
    }
   ],
   "source": [
    "m.actors.values()"
   ]
  },
  {
   "cell_type": "code",
   "execution_count": 104,
   "id": "2e11f4ba-a09c-4076-8d5e-f8a19dfa70ab",
   "metadata": {},
   "outputs": [
    {
     "data": {
      "text/plain": [
       "[{'sql': 'SELECT \"movie\".\"id\", \"movie\".\"title\", \"movie\".\"release_year\", \"movie\".\"duration\", \"movie\".\"pg\", \"movie\".\"synopsis\", \"movie\".\"poster_uri\", \"movie\".\"color\", \"movie\".\"director_id\" FROM \"movie\" WHERE \"movie\".\"title\" = \\'Titanic\\' LIMIT 21',\n",
       "  'time': '0.000'},\n",
       " {'sql': 'SELECT \"person\".\"id\", \"person\".\"name\", \"person\".\"birthdate\" FROM \"person\" WHERE \"person\".\"id\" = 116 LIMIT 21',\n",
       "  'time': '0.000'},\n",
       " {'sql': 'SELECT \"person\".\"id\", \"person\".\"name\", \"person\".\"birthdate\" FROM \"person\" INNER JOIN \"play\" ON (\"person\".\"id\" = \"play\".\"person_id\") WHERE \"play\".\"movie_id\" = 120338 LIMIT 21',\n",
       "  'time': '0.000'}]"
      ]
     },
     "execution_count": 104,
     "metadata": {},
     "output_type": "execute_result"
    }
   ],
   "source": [
    "connection.queries"
   ]
  },
  {
   "cell_type": "code",
   "execution_count": 113,
   "id": "0086d36c-9fc6-45df-896a-429e82e571ab",
   "metadata": {},
   "outputs": [
    {
     "data": {
      "text/plain": [
       "<QuerySet [Person<id=116, name=James Cameron>, Person<id=138, name=Leonardo DiCaprio>, Person<id=200, name=Bill Paxton>, Person<id=701, name=Kate Winslet>, Person<id=708, name=Billy Zane>, Person<id=751, name=Suzy Amis>, Person<id=870, name=Kathy Bates>, Person<id=967, name=Eric Braeden>, Person<id=1255, name=Victor Garber>, Person<id=1280, name=Jenette Goldstein>, Person<id=1572, name=Danny Nucci>, Person<id=1784, name=Gloria Stuart>, Person<id=1831, name=David Warner>, Person<id=4920, name=Frances Fisher>, Person<id=6508, name=Tony Kenny>, Person<id=6976, name=Marc Cass>, Person<id=8656, name=Lewis Abernathy>, Person<id=12079, name=Seth Adkins>, Person<id=27424, name=Scott Anderson>, Person<id=27735, name=Kris Andersson>, '...(remaining elements truncated)...']>"
      ]
     },
     "execution_count": 113,
     "metadata": {},
     "output_type": "execute_result"
    }
   ],
   "source": [
    "# manager object must be finished by a final step:\n",
    "# all, get, order_by, values, ...\n",
    "m.actors.all()"
   ]
  },
  {
   "cell_type": "code",
   "execution_count": 105,
   "id": "87cf38a8-ded4-4c33-84bb-3de276ec49c2",
   "metadata": {},
   "outputs": [],
   "source": [
    "# NB: m.actors.add, m.actors.remove + save to modify list of actors"
   ]
  },
  {
   "cell_type": "code",
   "execution_count": 114,
   "id": "83c496b3-411f-4e8e-96c0-786074019aa0",
   "metadata": {},
   "outputs": [
    {
     "data": {
      "text/plain": [
       "<QuerySet [{'id': 82910, 'title': 'Piranha II: The Spawning', 'year': 1981, 'duration': 94, 'pg': 'R', 'synopsis': \"A sunken US supply ship off a Caribbean island resort is the focus for a series of mysterious piranha attacks. Investigating the death of one of her son's companions after a scuba-diving trip, Anne Kimbrough breaks into the morgue with holidaymaker Tyler Sherman, only to discover that the fish have wings and can fly. But the hotel manager refuses to call off the annual fish fry on the beach, with inevitable consequences...\", 'poster_uri': 'https://m.media-amazon.com/images/M/MV5BZTdiZDk0MTEtMzYyYy00NTA5LWJiYzMtOTMzZmM2NDIwMmNiXkEyXkFqcGdeQXVyMTQxNzMzNDI@._V1_SY150_CR0,0,101,150_.jpg', 'color': None, 'director_id': 116}, {'id': 88247, 'title': 'The Terminator', 'year': 1984, 'duration': 107, 'pg': 'R', 'synopsis': 'Sent back from a dystopian 2029--where the cold machines have conquered the entire world--to 1984 Los Angeles, the indestructible cyborg-assassin known as the \"Terminator\" commences his deadly mission to kill humankind\\'s most important woman: the unsuspecting Sarah Connor. However, from the same war-torn post-apocalyptic future comes a battle-scarred defender--Kyle Reese, a brave soldier of the human Resistance Army--bent on stopping the cybernetic killer from eliminating the world\\'s last hope. But, the Terminator has no feelings, he doesn\\'t sleep, and above all, he won\\'t stop until he carries out his grim task. Does our future lie in our past?', 'poster_uri': 'https://m.media-amazon.com/images/M/MV5BYTViNzMxZjEtZGEwNy00MDNiLWIzNGQtZDY2MjQ1OWViZjFmXkEyXkFqcGdeQXVyNzkwMjQ5NzM@._V1_SX101_CR0,0,101,150_.jpg', 'color': None, 'director_id': 116}, {'id': 90605, 'title': 'Aliens', 'year': 1986, 'duration': 137, 'pg': 'R', 'synopsis': \"57 years after Ellen Ripley had a close encounter with the reptilian alien creature from the first movie, she is called back, this time, to help a group of highly trained colonial marines fight off against the sinister extraterrestrials. But this time, the aliens have taken over a space colony on the moon LV-426. When the colonial marines are called upon to search the deserted space colony, they later find out that they are up against more than what they bargained for. Using specially modified machine guns and enough firepower, it's either fight or die as the space marines battle against the aliens. As the Marines do their best to defend themselves, Ripley must attempt to protect a young girl who is the sole survivor of the nearly wiped out space colony.\", 'poster_uri': 'https://m.media-amazon.com/images/M/MV5BZGU2OGY5ZTYtMWNhYy00NjZiLWI0NjUtZmNhY2JhNDRmODU3XkEyXkFqcGdeQXVyNzkwMjQ5NzM@._V1_SX101_CR0,0,101,150_.jpg', 'color': None, 'director_id': 116}, {'id': 96754, 'title': 'The Abyss', 'year': 1989, 'duration': 171, 'pg': 'R', 'synopsis': 'Formerly married petroleum engineers who still have some issues to work out. They are drafted to assist a gung-ho Navy SEAL with a top-secret recovery operation: a nuclear sub has been ambushed and sunk, under mysterious circumstances, in some of the deepest waters on Earth.', 'poster_uri': 'https://m.media-amazon.com/images/M/MV5BYmU4NmUxZjEtYjY0OC00ZDAwLTg0MGQtMDRkNDk5NWQ0OTQ5XkEyXkFqcGdeQXVyMjUzOTY1NTc@._V1_SX101_CR0,0,101,150_.jpg', 'color': None, 'director_id': 116}, {'id': 103064, 'title': 'Terminator 2: Judgment Day', 'year': 1991, 'duration': 137, 'pg': 'R', 'synopsis': \"Over 10 years have passed since the first machine called The Terminator tried to kill Sarah Connor and her unborn son, John. The man who will become the future leader of the human resistance against the Machines is now a healthy young boy. However, another Terminator, called the T-1000, is sent back through time by the supercomputer Skynet. This new Terminator is more advanced and more powerful than its predecessor and its mission is to kill John Connor when he's still a child. However, Sarah and John do not have to face the threat of the T-1000 alone. Another Terminator (identical to the same model that tried and failed to kill Sarah Connor in 1984) is also sent back through time to protect them. Now, the battle for tomorrow has begun.\", 'poster_uri': 'https://m.media-amazon.com/images/M/MV5BMGU2NzRmZjUtOGUxYS00ZjdjLWEwZWItY2NlM2JhNjkxNTFmXkEyXkFqcGdeQXVyNjU0OTQ0OTY@._V1_SX101_CR0,0,101,150_.jpg', 'color': None, 'director_id': 116}, {'id': 111503, 'title': 'True Lies', 'year': 1994, 'duration': 141, 'pg': 'R', 'synopsis': 'Harry Tasker (Arnold Schwarzenegger) leads a double life. At work he is a government agent with a license to do just about anything, while at home he pretends to be a dull computer salesman. He is on the trail of stolen nuclear weapons that are in the hands of fanatic terrorists when something more important comes up. Harry finds his wife is seeing another man (Bill Paxton) because she needs some adventure in her life. Harry decides to give it to her, juggling pursuit of terrorists on one hand and an adventure for his wife on the other while showing he can Tango all at once.', 'poster_uri': 'https://m.media-amazon.com/images/M/MV5BYzg5YmUyNGMtMThiNS00MjA2LTgwZDctNDlhM2RkZDNmZmRkXkEyXkFqcGdeQXVyNDk3NzU2MTQ@._V1_SX101_CR0,0,101,150_.jpg', 'color': None, 'director_id': 116}, {'id': 120338, 'title': 'Titanic', 'year': 1997, 'duration': 194, 'pg': 'R', 'synopsis': '84 years later, a 100 year-old woman named Rose DeWitt Bukater tells the story to her granddaughter Lizzy Calvert, Brock Lovett, Lewis Bodine, Bobby Buell and Anatoly Mikailavich on the Keldysh about her life set in April 10th 1912, on a ship called Titanic when young Rose boards the departing ship with the upper-class passengers and her mother, Ruth DeWitt Bukater, and her fiancé, Caledon Hockley. Meanwhile, a drifter and artist named Jack Dawson and his best friend Fabrizio De Rossi win third-class tickets to the ship in a game. And she explains the whole story from departure until the death of Titanic on its first and last voyage April 15th, 1912 at 2:20 in the morning.', 'poster_uri': 'https://m.media-amazon.com/images/M/MV5BMDdmZGU3NDQtY2E5My00ZTliLWIzOTUtMTY4ZGI1YjdiNjk3XkEyXkFqcGdeQXVyNTA4NzY1MzY@._V1_SX101_CR0,0,101,150_.jpg', 'color': None, 'director_id': 116}, {'id': 499549, 'title': 'Avatar', 'year': 2009, 'duration': 162, 'pg': 'R', 'synopsis': 'When his brother is killed in a robbery, paraplegic Marine Jake Sully decides to take his place in a mission on the distant world of Pandora. There he learns of greedy corporate figurehead Parker Selfridge\\'s intentions of driving off the native humanoid \"Na\\'vi\" in order to mine for the precious material scattered throughout their rich woodland. In exchange for the spinal surgery that will fix his legs, Jake gathers knowledge, of the Indigenous Race and their Culture, for the cooperating military unit spearheaded by gung-ho Colonel Quaritch, while simultaneously attempting to infiltrate the Na\\'vi people with the use of an \"avatar\" identity. While Jake begins to bond with the native tribe and quickly falls in love with the beautiful alien Neytiri, the restless Colonel moves forward with his ruthless extermination tactics, forcing the soldier to take a stand - and fight back in an epic battle for the fate of Pandora.', 'poster_uri': 'https://m.media-amazon.com/images/M/MV5BNjA3NGExZDktNDlhZC00NjYyLTgwNmUtZWUzMDYwMTZjZWUyXkEyXkFqcGdeQXVyMTU1MDM3NDk0._V1_SY150_CR0,0,101,150_.jpg', 'color': None, 'director_id': 116}]>"
      ]
     },
     "execution_count": 114,
     "metadata": {},
     "output_type": "execute_result"
    }
   ],
   "source": [
    "james.directed_movies.values()"
   ]
  },
  {
   "cell_type": "code",
   "execution_count": 115,
   "id": "d221918d-9b46-4689-808e-b160782b7636",
   "metadata": {},
   "outputs": [
    {
     "data": {
      "text/plain": [
       "<QuerySet [Movie<id=82910, title=Piranha II: The Spawning, year=1981>, Movie<id=88247, title=The Terminator, year=1984>, Movie<id=90605, title=Aliens, year=1986>, Movie<id=96754, title=The Abyss, year=1989>, Movie<id=103064, title=Terminator 2: Judgment Day, year=1991>, Movie<id=111503, title=True Lies, year=1994>, Movie<id=120338, title=Titanic, year=1997>, Movie<id=499549, title=Avatar, year=2009>]>"
      ]
     },
     "execution_count": 115,
     "metadata": {},
     "output_type": "execute_result"
    }
   ],
   "source": [
    "james.directed_movies.all()"
   ]
  },
  {
   "cell_type": "code",
   "execution_count": 116,
   "id": "a6ca9568-d0c3-4542-8a70-916b1d931ffc",
   "metadata": {},
   "outputs": [
    {
     "data": {
      "text/plain": [
       "<QuerySet [Movie<id=134630, title=Duets, year=2000>, Movie<id=164108, title=The Muse, year=1999>, Movie<id=120338, title=Titanic, year=1997>]>"
      ]
     },
     "execution_count": 116,
     "metadata": {},
     "output_type": "execute_result"
    }
   ],
   "source": [
    "james.played_movies.order_by('-year')"
   ]
  },
  {
   "cell_type": "markdown",
   "id": "c82b67b0-4f3a-4baa-917f-6da511de1c49",
   "metadata": {},
   "source": [
    "## native/raw queries\n",
    "https://docs.djangoproject.com/en/4.2/topics/db/sql/"
   ]
  }
 ],
 "metadata": {
  "kernelspec": {
   "display_name": "Django Shell-Plus",
   "language": "python",
   "name": "django_extensions"
  },
  "language_info": {
   "codemirror_mode": {
    "name": "ipython",
    "version": 3
   },
   "file_extension": ".py",
   "mimetype": "text/x-python",
   "name": "python",
   "nbconvert_exporter": "python",
   "pygments_lexer": "ipython3",
   "version": "3.12.5"
  }
 },
 "nbformat": 4,
 "nbformat_minor": 5
}
