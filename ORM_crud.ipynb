{
 "cells": [
  {
   "cell_type": "markdown",
   "id": "840b82da-4bde-4d4f-a787-1431c34f28b5",
   "metadata": {},
   "source": [
    "# Django ORM Queries"
   ]
  },
  {
   "cell_type": "markdown",
   "id": "6e3f1a2a-062d-44ca-ad75-bdf751dd94c9",
   "metadata": {},
   "source": [
    "## Create (insert)"
   ]
  },
  {
   "cell_type": "code",
   "execution_count": 1,
   "id": "c313e76c-9e10-41d4-91ff-74128c79d3b8",
   "metadata": {},
   "outputs": [],
   "source": [
    "m1 = Movie(title=\"Rebel Ridge\", year=2024)\n",
    "m2 = Movie(title=\"Dune: Part Two\", year=2024)\n",
    "m3 = Movie(title=\"It Ends with Us\", year=2024, duration=130)\n",
    "for m in m1, m2, m3:\n",
    "    m.save() # SQL: insert"
   ]
  },
  {
   "cell_type": "code",
   "execution_count": 2,
   "id": "a13288d6-ea62-4e9e-9f70-a04541f8bcc9",
   "metadata": {},
   "outputs": [
    {
     "data": {
      "text/plain": [
       "Movie<id=1, title=Rebel Ridge, year=2024>"
      ]
     },
     "execution_count": 2,
     "metadata": {},
     "output_type": "execute_result"
    }
   ],
   "source": [
    "m1"
   ]
  },
  {
   "cell_type": "code",
   "execution_count": 3,
   "id": "3ede9d3d-4c7e-40a5-8df1-c51da98a2371",
   "metadata": {},
   "outputs": [
    {
     "name": "stdout",
     "output_type": "stream",
     "text": [
      "Movie<id=1, title=Rebel Ridge, year=2024>\n"
     ]
    }
   ],
   "source": [
    "print(m1)"
   ]
  },
  {
   "cell_type": "markdown",
   "id": "4542928e-7983-47c8-898f-1db53b46c830",
   "metadata": {},
   "source": [
    "## Update"
   ]
  },
  {
   "cell_type": "code",
   "execution_count": 4,
   "id": "56ae6649-7c68-49f9-b5f3-a4bb8a1fffd3",
   "metadata": {},
   "outputs": [],
   "source": [
    "m2.duration = 166\n",
    "m2.save() # SQL: update"
   ]
  },
  {
   "cell_type": "markdown",
   "id": "4c57529e-eb4f-481d-af61-af065a5b6c9e",
   "metadata": {},
   "source": [
    "## Read (select)"
   ]
  },
  {
   "cell_type": "markdown",
   "id": "0059720e-22f6-43f3-b753-37986b70d119",
   "metadata": {},
   "source": [
    "### All"
   ]
  },
  {
   "cell_type": "code",
   "execution_count": 5,
   "id": "cf572de9-9bb0-4142-9659-6e0571e423c9",
   "metadata": {},
   "outputs": [
    {
     "data": {
      "text/plain": [
       "<QuerySet [Movie<id=1, title=Rebel Ridge, year=2024>, Movie<id=3, title=It Ends with Us, year=2024>, Movie<id=2, title=Dune: Part Two, year=2024>]>"
      ]
     },
     "execution_count": 5,
     "metadata": {},
     "output_type": "execute_result"
    }
   ],
   "source": [
    "movies = Movie.objects.all() \n",
    "# SQL: select * from movie\n",
    "movies"
   ]
  },
  {
   "cell_type": "code",
   "execution_count": 6,
   "id": "33fbd919-bf05-467a-8411-5fb47ee18f5a",
   "metadata": {},
   "outputs": [
    {
     "data": {
      "text/plain": [
       "('Rebel Ridge', 2024, None)"
      ]
     },
     "execution_count": 6,
     "metadata": {},
     "output_type": "execute_result"
    }
   ],
   "source": [
    "m = movies[0]\n",
    "m.title, m.year, m.duration"
   ]
  },
  {
   "cell_type": "markdown",
   "id": "9af309dc-09a1-4c03-a9c6-9fc4bfdd96ab",
   "metadata": {},
   "source": [
    "### By primary key or unique column"
   ]
  },
  {
   "cell_type": "code",
   "execution_count": 7,
   "id": "eace7bf0-4b10-47b1-ba70-5549ae51d8db",
   "metadata": {},
   "outputs": [
    {
     "data": {
      "text/plain": [
       "Movie<id=1, title=Rebel Ridge, year=2024>"
      ]
     },
     "execution_count": 7,
     "metadata": {},
     "output_type": "execute_result"
    }
   ],
   "source": [
    "# NB: for a primary key, it's better using 'pk' generic name \n",
    "m = Movie.objects.get(pk=1)\n",
    "m"
   ]
  },
  {
   "cell_type": "code",
   "execution_count": 8,
   "id": "1adc0226-4518-4021-a70d-a1fecd4553ec",
   "metadata": {},
   "outputs": [],
   "source": [
    "m.duration = 131\n",
    "m.save() # SQL: update"
   ]
  },
  {
   "cell_type": "markdown",
   "id": "867d85a8-5b6a-4071-814b-814d320dee57",
   "metadata": {},
   "source": [
    "## Delete"
   ]
  },
  {
   "cell_type": "code",
   "execution_count": 9,
   "id": "73c4914a-941b-4cd2-9916-16be4ef25ed4",
   "metadata": {},
   "outputs": [
    {
     "data": {
      "text/plain": [
       "(1, {'movies.Movie': 1})"
      ]
     },
     "execution_count": 9,
     "metadata": {},
     "output_type": "execute_result"
    }
   ],
   "source": [
    "m.delete()"
   ]
  }
 ],
 "metadata": {
  "kernelspec": {
   "display_name": "Django Shell-Plus",
   "language": "python",
   "name": "django_extensions"
  },
  "language_info": {
   "codemirror_mode": {
    "name": "ipython",
    "version": 3
   },
   "file_extension": ".py",
   "mimetype": "text/x-python",
   "name": "python",
   "nbconvert_exporter": "python",
   "pygments_lexer": "ipython3",
   "version": "3.12.5"
  }
 },
 "nbformat": 4,
 "nbformat_minor": 5
}
